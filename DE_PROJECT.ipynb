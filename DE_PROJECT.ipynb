{
 "cells": [
  {
   "cell_type": "code",
   "execution_count": 2,
   "metadata": {
    "collapsed": true,
    "ExecuteTime": {
     "start_time": "2023-03-31T04:38:00.582827Z",
     "end_time": "2023-03-31T04:38:00.612827Z"
    }
   },
   "outputs": [],
   "source": [
    "import pandas as pd\n",
    "import numpy as np\n",
    "import matplotlib.pyplot as plt\n",
    "import seaborn as sns"
   ]
  },
  {
   "cell_type": "markdown",
   "source": [
    "#### Loading the original data\n",
    "The dataset consists of 3 csv files -\n",
    " * **goalscorers.csv**, which contains all the goals scores in international football history\n",
    " * **results.csv**, which contains all the matches since 1876\n",
    " * **shootouts.csv** which contains all the penalty shoot-outs."
   ],
   "metadata": {
    "collapsed": false
   }
  },
  {
   "cell_type": "code",
   "execution_count": 3,
   "outputs": [],
   "source": [
    "goals = pd.read_csv('data/goalscorers.csv')\n",
    "matches = pd.read_csv('data/results.csv')\n",
    "penalties = pd.read_csv('data/shootouts.csv')"
   ],
   "metadata": {
    "collapsed": false,
    "ExecuteTime": {
     "start_time": "2023-03-31T04:38:00.925359Z",
     "end_time": "2023-03-31T04:38:01.153951Z"
    }
   }
  },
  {
   "cell_type": "markdown",
   "source": [
    "Let us have a quick look at the data."
   ],
   "metadata": {
    "collapsed": false
   }
  },
  {
   "cell_type": "code",
   "execution_count": 4,
   "outputs": [
    {
     "data": {
      "text/plain": "             date  home_team away_team       team            scorer  minute  \\\n0      1916-07-02      Chile   Uruguay    Uruguay   José Piendibene    44.0   \n1      1916-07-02      Chile   Uruguay    Uruguay  Isabelino Gradín    55.0   \n2      1916-07-02      Chile   Uruguay    Uruguay  Isabelino Gradín    70.0   \n3      1916-07-02      Chile   Uruguay    Uruguay   José Piendibene    75.0   \n4      1916-07-06  Argentina     Chile  Argentina     Alberto Ohaco     2.0   \n...           ...        ...       ...        ...               ...     ...   \n41003  2022-12-18  Argentina    France  Argentina    Ángel Di María    36.0   \n41004  2022-12-18  Argentina    France     France     Kylian Mbappé    80.0   \n41005  2022-12-18  Argentina    France     France     Kylian Mbappé    81.0   \n41006  2022-12-18  Argentina    France  Argentina      Lionel Messi   109.0   \n41007  2022-12-18  Argentina    France     France     Kylian Mbappé   118.0   \n\n       own_goal  penalty  \n0         False    False  \n1         False    False  \n2         False    False  \n3         False    False  \n4         False    False  \n...         ...      ...  \n41003     False    False  \n41004     False     True  \n41005     False    False  \n41006     False    False  \n41007     False     True  \n\n[41008 rows x 8 columns]",
      "text/html": "<div>\n<style scoped>\n    .dataframe tbody tr th:only-of-type {\n        vertical-align: middle;\n    }\n\n    .dataframe tbody tr th {\n        vertical-align: top;\n    }\n\n    .dataframe thead th {\n        text-align: right;\n    }\n</style>\n<table border=\"1\" class=\"dataframe\">\n  <thead>\n    <tr style=\"text-align: right;\">\n      <th></th>\n      <th>date</th>\n      <th>home_team</th>\n      <th>away_team</th>\n      <th>team</th>\n      <th>scorer</th>\n      <th>minute</th>\n      <th>own_goal</th>\n      <th>penalty</th>\n    </tr>\n  </thead>\n  <tbody>\n    <tr>\n      <th>0</th>\n      <td>1916-07-02</td>\n      <td>Chile</td>\n      <td>Uruguay</td>\n      <td>Uruguay</td>\n      <td>José Piendibene</td>\n      <td>44.0</td>\n      <td>False</td>\n      <td>False</td>\n    </tr>\n    <tr>\n      <th>1</th>\n      <td>1916-07-02</td>\n      <td>Chile</td>\n      <td>Uruguay</td>\n      <td>Uruguay</td>\n      <td>Isabelino Gradín</td>\n      <td>55.0</td>\n      <td>False</td>\n      <td>False</td>\n    </tr>\n    <tr>\n      <th>2</th>\n      <td>1916-07-02</td>\n      <td>Chile</td>\n      <td>Uruguay</td>\n      <td>Uruguay</td>\n      <td>Isabelino Gradín</td>\n      <td>70.0</td>\n      <td>False</td>\n      <td>False</td>\n    </tr>\n    <tr>\n      <th>3</th>\n      <td>1916-07-02</td>\n      <td>Chile</td>\n      <td>Uruguay</td>\n      <td>Uruguay</td>\n      <td>José Piendibene</td>\n      <td>75.0</td>\n      <td>False</td>\n      <td>False</td>\n    </tr>\n    <tr>\n      <th>4</th>\n      <td>1916-07-06</td>\n      <td>Argentina</td>\n      <td>Chile</td>\n      <td>Argentina</td>\n      <td>Alberto Ohaco</td>\n      <td>2.0</td>\n      <td>False</td>\n      <td>False</td>\n    </tr>\n    <tr>\n      <th>...</th>\n      <td>...</td>\n      <td>...</td>\n      <td>...</td>\n      <td>...</td>\n      <td>...</td>\n      <td>...</td>\n      <td>...</td>\n      <td>...</td>\n    </tr>\n    <tr>\n      <th>41003</th>\n      <td>2022-12-18</td>\n      <td>Argentina</td>\n      <td>France</td>\n      <td>Argentina</td>\n      <td>Ángel Di María</td>\n      <td>36.0</td>\n      <td>False</td>\n      <td>False</td>\n    </tr>\n    <tr>\n      <th>41004</th>\n      <td>2022-12-18</td>\n      <td>Argentina</td>\n      <td>France</td>\n      <td>France</td>\n      <td>Kylian Mbappé</td>\n      <td>80.0</td>\n      <td>False</td>\n      <td>True</td>\n    </tr>\n    <tr>\n      <th>41005</th>\n      <td>2022-12-18</td>\n      <td>Argentina</td>\n      <td>France</td>\n      <td>France</td>\n      <td>Kylian Mbappé</td>\n      <td>81.0</td>\n      <td>False</td>\n      <td>False</td>\n    </tr>\n    <tr>\n      <th>41006</th>\n      <td>2022-12-18</td>\n      <td>Argentina</td>\n      <td>France</td>\n      <td>Argentina</td>\n      <td>Lionel Messi</td>\n      <td>109.0</td>\n      <td>False</td>\n      <td>False</td>\n    </tr>\n    <tr>\n      <th>41007</th>\n      <td>2022-12-18</td>\n      <td>Argentina</td>\n      <td>France</td>\n      <td>France</td>\n      <td>Kylian Mbappé</td>\n      <td>118.0</td>\n      <td>False</td>\n      <td>True</td>\n    </tr>\n  </tbody>\n</table>\n<p>41008 rows × 8 columns</p>\n</div>"
     },
     "execution_count": 4,
     "metadata": {},
     "output_type": "execute_result"
    }
   ],
   "source": [
    "goals"
   ],
   "metadata": {
    "collapsed": false,
    "ExecuteTime": {
     "start_time": "2023-03-31T04:38:01.324396Z",
     "end_time": "2023-03-31T04:38:01.363931Z"
    }
   }
  },
  {
   "cell_type": "code",
   "execution_count": 5,
   "outputs": [
    {
     "data": {
      "text/plain": "             date                     home_team                 away_team  \\\n0      1872-11-30                      Scotland                   England   \n1      1873-03-08                       England                  Scotland   \n2      1874-03-07                      Scotland                   England   \n3      1875-03-06                       England                  Scotland   \n4      1876-03-04                      Scotland                   England   \n...           ...                           ...                       ...   \n44552  2023-03-28                         Haiti                   Bermuda   \n44553  2023-03-28                        Guyana                Montserrat   \n44554  2023-03-28                       Bonaire  Turks and Caicos Islands   \n44555  2023-03-28  United States Virgin Islands              Sint Maarten   \n44556  2023-03-29                        Rwanda                     Benin   \n\n       home_score  away_score                            tournament  \\\n0               0           0                              Friendly   \n1               4           2                              Friendly   \n2               2           1                              Friendly   \n3               2           2                              Friendly   \n4               3           0                              Friendly   \n...           ...         ...                                   ...   \n44552           3           1               CONCACAF Nations League   \n44553           0           0               CONCACAF Nations League   \n44554           1           2               CONCACAF Nations League   \n44555           1           2               CONCACAF Nations League   \n44556           1           1  African Cup of Nations qualification   \n\n                city                       country  neutral  \n0            Glasgow                      Scotland    False  \n1             London                       England    False  \n2            Glasgow                      Scotland    False  \n3             London                       England    False  \n4            Glasgow                      Scotland    False  \n...              ...                           ...      ...  \n44552  San Cristóbal            Dominican Republic     True  \n44553     Bridgetown                      Barbados     True  \n44554         Rincon                       Bonaire    False  \n44555    Saint Croix  United States Virgin Islands    False  \n44556         Kigali                        Rwanda    False  \n\n[44557 rows x 9 columns]",
      "text/html": "<div>\n<style scoped>\n    .dataframe tbody tr th:only-of-type {\n        vertical-align: middle;\n    }\n\n    .dataframe tbody tr th {\n        vertical-align: top;\n    }\n\n    .dataframe thead th {\n        text-align: right;\n    }\n</style>\n<table border=\"1\" class=\"dataframe\">\n  <thead>\n    <tr style=\"text-align: right;\">\n      <th></th>\n      <th>date</th>\n      <th>home_team</th>\n      <th>away_team</th>\n      <th>home_score</th>\n      <th>away_score</th>\n      <th>tournament</th>\n      <th>city</th>\n      <th>country</th>\n      <th>neutral</th>\n    </tr>\n  </thead>\n  <tbody>\n    <tr>\n      <th>0</th>\n      <td>1872-11-30</td>\n      <td>Scotland</td>\n      <td>England</td>\n      <td>0</td>\n      <td>0</td>\n      <td>Friendly</td>\n      <td>Glasgow</td>\n      <td>Scotland</td>\n      <td>False</td>\n    </tr>\n    <tr>\n      <th>1</th>\n      <td>1873-03-08</td>\n      <td>England</td>\n      <td>Scotland</td>\n      <td>4</td>\n      <td>2</td>\n      <td>Friendly</td>\n      <td>London</td>\n      <td>England</td>\n      <td>False</td>\n    </tr>\n    <tr>\n      <th>2</th>\n      <td>1874-03-07</td>\n      <td>Scotland</td>\n      <td>England</td>\n      <td>2</td>\n      <td>1</td>\n      <td>Friendly</td>\n      <td>Glasgow</td>\n      <td>Scotland</td>\n      <td>False</td>\n    </tr>\n    <tr>\n      <th>3</th>\n      <td>1875-03-06</td>\n      <td>England</td>\n      <td>Scotland</td>\n      <td>2</td>\n      <td>2</td>\n      <td>Friendly</td>\n      <td>London</td>\n      <td>England</td>\n      <td>False</td>\n    </tr>\n    <tr>\n      <th>4</th>\n      <td>1876-03-04</td>\n      <td>Scotland</td>\n      <td>England</td>\n      <td>3</td>\n      <td>0</td>\n      <td>Friendly</td>\n      <td>Glasgow</td>\n      <td>Scotland</td>\n      <td>False</td>\n    </tr>\n    <tr>\n      <th>...</th>\n      <td>...</td>\n      <td>...</td>\n      <td>...</td>\n      <td>...</td>\n      <td>...</td>\n      <td>...</td>\n      <td>...</td>\n      <td>...</td>\n      <td>...</td>\n    </tr>\n    <tr>\n      <th>44552</th>\n      <td>2023-03-28</td>\n      <td>Haiti</td>\n      <td>Bermuda</td>\n      <td>3</td>\n      <td>1</td>\n      <td>CONCACAF Nations League</td>\n      <td>San Cristóbal</td>\n      <td>Dominican Republic</td>\n      <td>True</td>\n    </tr>\n    <tr>\n      <th>44553</th>\n      <td>2023-03-28</td>\n      <td>Guyana</td>\n      <td>Montserrat</td>\n      <td>0</td>\n      <td>0</td>\n      <td>CONCACAF Nations League</td>\n      <td>Bridgetown</td>\n      <td>Barbados</td>\n      <td>True</td>\n    </tr>\n    <tr>\n      <th>44554</th>\n      <td>2023-03-28</td>\n      <td>Bonaire</td>\n      <td>Turks and Caicos Islands</td>\n      <td>1</td>\n      <td>2</td>\n      <td>CONCACAF Nations League</td>\n      <td>Rincon</td>\n      <td>Bonaire</td>\n      <td>False</td>\n    </tr>\n    <tr>\n      <th>44555</th>\n      <td>2023-03-28</td>\n      <td>United States Virgin Islands</td>\n      <td>Sint Maarten</td>\n      <td>1</td>\n      <td>2</td>\n      <td>CONCACAF Nations League</td>\n      <td>Saint Croix</td>\n      <td>United States Virgin Islands</td>\n      <td>False</td>\n    </tr>\n    <tr>\n      <th>44556</th>\n      <td>2023-03-29</td>\n      <td>Rwanda</td>\n      <td>Benin</td>\n      <td>1</td>\n      <td>1</td>\n      <td>African Cup of Nations qualification</td>\n      <td>Kigali</td>\n      <td>Rwanda</td>\n      <td>False</td>\n    </tr>\n  </tbody>\n</table>\n<p>44557 rows × 9 columns</p>\n</div>"
     },
     "execution_count": 5,
     "metadata": {},
     "output_type": "execute_result"
    }
   ],
   "source": [
    "matches"
   ],
   "metadata": {
    "collapsed": false,
    "ExecuteTime": {
     "start_time": "2023-03-31T04:38:01.553971Z",
     "end_time": "2023-03-31T04:38:01.643984Z"
    }
   }
  },
  {
   "cell_type": "code",
   "execution_count": 6,
   "outputs": [
    {
     "data": {
      "text/plain": "           date    home_team         away_team       winner\n0    1967-08-22        India            Taiwan       Taiwan\n1    1971-11-14  South Korea  Vietnam Republic  South Korea\n2    1972-05-07  South Korea              Iraq         Iraq\n3    1972-05-17     Thailand       South Korea  South Korea\n4    1972-05-19     Thailand          Cambodia     Thailand\n..          ...          ...               ...          ...\n542  2022-12-05        Japan           Croatia      Croatia\n543  2022-12-06      Morocco             Spain      Morocco\n544  2022-12-09      Croatia            Brazil      Croatia\n545  2022-12-09  Netherlands         Argentina    Argentina\n546  2022-12-18    Argentina            France    Argentina\n\n[547 rows x 4 columns]",
      "text/html": "<div>\n<style scoped>\n    .dataframe tbody tr th:only-of-type {\n        vertical-align: middle;\n    }\n\n    .dataframe tbody tr th {\n        vertical-align: top;\n    }\n\n    .dataframe thead th {\n        text-align: right;\n    }\n</style>\n<table border=\"1\" class=\"dataframe\">\n  <thead>\n    <tr style=\"text-align: right;\">\n      <th></th>\n      <th>date</th>\n      <th>home_team</th>\n      <th>away_team</th>\n      <th>winner</th>\n    </tr>\n  </thead>\n  <tbody>\n    <tr>\n      <th>0</th>\n      <td>1967-08-22</td>\n      <td>India</td>\n      <td>Taiwan</td>\n      <td>Taiwan</td>\n    </tr>\n    <tr>\n      <th>1</th>\n      <td>1971-11-14</td>\n      <td>South Korea</td>\n      <td>Vietnam Republic</td>\n      <td>South Korea</td>\n    </tr>\n    <tr>\n      <th>2</th>\n      <td>1972-05-07</td>\n      <td>South Korea</td>\n      <td>Iraq</td>\n      <td>Iraq</td>\n    </tr>\n    <tr>\n      <th>3</th>\n      <td>1972-05-17</td>\n      <td>Thailand</td>\n      <td>South Korea</td>\n      <td>South Korea</td>\n    </tr>\n    <tr>\n      <th>4</th>\n      <td>1972-05-19</td>\n      <td>Thailand</td>\n      <td>Cambodia</td>\n      <td>Thailand</td>\n    </tr>\n    <tr>\n      <th>...</th>\n      <td>...</td>\n      <td>...</td>\n      <td>...</td>\n      <td>...</td>\n    </tr>\n    <tr>\n      <th>542</th>\n      <td>2022-12-05</td>\n      <td>Japan</td>\n      <td>Croatia</td>\n      <td>Croatia</td>\n    </tr>\n    <tr>\n      <th>543</th>\n      <td>2022-12-06</td>\n      <td>Morocco</td>\n      <td>Spain</td>\n      <td>Morocco</td>\n    </tr>\n    <tr>\n      <th>544</th>\n      <td>2022-12-09</td>\n      <td>Croatia</td>\n      <td>Brazil</td>\n      <td>Croatia</td>\n    </tr>\n    <tr>\n      <th>545</th>\n      <td>2022-12-09</td>\n      <td>Netherlands</td>\n      <td>Argentina</td>\n      <td>Argentina</td>\n    </tr>\n    <tr>\n      <th>546</th>\n      <td>2022-12-18</td>\n      <td>Argentina</td>\n      <td>France</td>\n      <td>Argentina</td>\n    </tr>\n  </tbody>\n</table>\n<p>547 rows × 4 columns</p>\n</div>"
     },
     "execution_count": 6,
     "metadata": {},
     "output_type": "execute_result"
    }
   ],
   "source": [
    "penalties"
   ],
   "metadata": {
    "collapsed": false,
    "ExecuteTime": {
     "start_time": "2023-03-31T04:38:01.703113Z",
     "end_time": "2023-03-31T04:38:01.762678Z"
    }
   }
  },
  {
   "cell_type": "markdown",
   "source": [
    "Looking at the first two tables, I feel one more table can be formed by merging the two, which can be quite useful because then we will have all the goals in every match segregated at a place, instead of two different tables for the same purpose.\n",
    "\n",
    "However, merging operations might lead to increase the number of missing values even further if there already are missing values in the dataframes. So, we need to check for and treat missing values before merging."
   ],
   "metadata": {
    "collapsed": false
   }
  },
  {
   "cell_type": "code",
   "execution_count": 7,
   "outputs": [
    {
     "data": {
      "text/plain": "date          0\nhome_team     0\naway_team     0\nhome_score    0\naway_score    0\ntournament    0\ncity          0\ncountry       0\nneutral       0\ndtype: int64"
     },
     "execution_count": 7,
     "metadata": {},
     "output_type": "execute_result"
    }
   ],
   "source": [
    "matches.isna().sum()    #counts missing values for each column"
   ],
   "metadata": {
    "collapsed": false,
    "ExecuteTime": {
     "start_time": "2023-03-31T04:38:02.270432Z",
     "end_time": "2023-03-31T04:38:02.320433Z"
    }
   }
  },
  {
   "cell_type": "code",
   "execution_count": 8,
   "outputs": [
    {
     "data": {
      "text/plain": "date         0\nhome_team    0\naway_team    0\nwinner       0\ndtype: int64"
     },
     "execution_count": 8,
     "metadata": {},
     "output_type": "execute_result"
    }
   ],
   "source": [
    "penalties.isna().sum()"
   ],
   "metadata": {
    "collapsed": false,
    "ExecuteTime": {
     "start_time": "2023-03-31T04:38:04.248081Z",
     "end_time": "2023-03-31T04:38:04.296866Z"
    }
   }
  },
  {
   "cell_type": "markdown",
   "source": [
    "Thankfully, **matches** and **penalties** tables do not have any missing values."
   ],
   "metadata": {
    "collapsed": false
   }
  },
  {
   "cell_type": "code",
   "execution_count": 9,
   "outputs": [
    {
     "data": {
      "text/plain": "date           0\nhome_team      0\naway_team      0\nteam           0\nscorer        49\nminute       258\nown_goal       0\npenalty        0\ndtype: int64"
     },
     "execution_count": 9,
     "metadata": {},
     "output_type": "execute_result"
    }
   ],
   "source": [
    "goals.isna().sum()"
   ],
   "metadata": {
    "collapsed": false,
    "ExecuteTime": {
     "start_time": "2023-03-31T04:38:05.122478Z",
     "end_time": "2023-03-31T04:38:05.172517Z"
    }
   }
  },
  {
   "cell_type": "code",
   "execution_count": 10,
   "outputs": [
    {
     "data": {
      "text/plain": "     scorer  minute\n8012    NaN     NaN\n8013    NaN     NaN\n8014    NaN     NaN\n8015    NaN     NaN\n8016    NaN     NaN\n8017    NaN     NaN\n8018    NaN     NaN\n8019    NaN     NaN\n8020    NaN     NaN\n8021    NaN     NaN\n8022    NaN     NaN\n8040    NaN     NaN\n8041    NaN     NaN\n8042    NaN     NaN\n8043    NaN     NaN\n8044    NaN     NaN\n8045    NaN     NaN\n8046    NaN     NaN\n8059    NaN     NaN\n8060    NaN     NaN\n8061    NaN     NaN\n8062    NaN     NaN\n8063    NaN     NaN\n8064    NaN     NaN\n8065    NaN     NaN\n8066    NaN     NaN\n8067    NaN     NaN\n8068    NaN     NaN\n8069    NaN     NaN\n8070    NaN     NaN\n8071    NaN     NaN\n8073    NaN     NaN\n8074    NaN     NaN\n8075    NaN     NaN\n8076    NaN     NaN\n8077    NaN     NaN\n8078    NaN     NaN\n8079    NaN     NaN\n8080    NaN     NaN\n8081    NaN     NaN\n8082    NaN     NaN\n8083    NaN     NaN\n8084    NaN     NaN\n8085    NaN     NaN\n8086    NaN     NaN\n8087    NaN     NaN\n8088    NaN     NaN\n8089    NaN     NaN\n8293    NaN     NaN",
      "text/html": "<div>\n<style scoped>\n    .dataframe tbody tr th:only-of-type {\n        vertical-align: middle;\n    }\n\n    .dataframe tbody tr th {\n        vertical-align: top;\n    }\n\n    .dataframe thead th {\n        text-align: right;\n    }\n</style>\n<table border=\"1\" class=\"dataframe\">\n  <thead>\n    <tr style=\"text-align: right;\">\n      <th></th>\n      <th>scorer</th>\n      <th>minute</th>\n    </tr>\n  </thead>\n  <tbody>\n    <tr>\n      <th>8012</th>\n      <td>NaN</td>\n      <td>NaN</td>\n    </tr>\n    <tr>\n      <th>8013</th>\n      <td>NaN</td>\n      <td>NaN</td>\n    </tr>\n    <tr>\n      <th>8014</th>\n      <td>NaN</td>\n      <td>NaN</td>\n    </tr>\n    <tr>\n      <th>8015</th>\n      <td>NaN</td>\n      <td>NaN</td>\n    </tr>\n    <tr>\n      <th>8016</th>\n      <td>NaN</td>\n      <td>NaN</td>\n    </tr>\n    <tr>\n      <th>8017</th>\n      <td>NaN</td>\n      <td>NaN</td>\n    </tr>\n    <tr>\n      <th>8018</th>\n      <td>NaN</td>\n      <td>NaN</td>\n    </tr>\n    <tr>\n      <th>8019</th>\n      <td>NaN</td>\n      <td>NaN</td>\n    </tr>\n    <tr>\n      <th>8020</th>\n      <td>NaN</td>\n      <td>NaN</td>\n    </tr>\n    <tr>\n      <th>8021</th>\n      <td>NaN</td>\n      <td>NaN</td>\n    </tr>\n    <tr>\n      <th>8022</th>\n      <td>NaN</td>\n      <td>NaN</td>\n    </tr>\n    <tr>\n      <th>8040</th>\n      <td>NaN</td>\n      <td>NaN</td>\n    </tr>\n    <tr>\n      <th>8041</th>\n      <td>NaN</td>\n      <td>NaN</td>\n    </tr>\n    <tr>\n      <th>8042</th>\n      <td>NaN</td>\n      <td>NaN</td>\n    </tr>\n    <tr>\n      <th>8043</th>\n      <td>NaN</td>\n      <td>NaN</td>\n    </tr>\n    <tr>\n      <th>8044</th>\n      <td>NaN</td>\n      <td>NaN</td>\n    </tr>\n    <tr>\n      <th>8045</th>\n      <td>NaN</td>\n      <td>NaN</td>\n    </tr>\n    <tr>\n      <th>8046</th>\n      <td>NaN</td>\n      <td>NaN</td>\n    </tr>\n    <tr>\n      <th>8059</th>\n      <td>NaN</td>\n      <td>NaN</td>\n    </tr>\n    <tr>\n      <th>8060</th>\n      <td>NaN</td>\n      <td>NaN</td>\n    </tr>\n    <tr>\n      <th>8061</th>\n      <td>NaN</td>\n      <td>NaN</td>\n    </tr>\n    <tr>\n      <th>8062</th>\n      <td>NaN</td>\n      <td>NaN</td>\n    </tr>\n    <tr>\n      <th>8063</th>\n      <td>NaN</td>\n      <td>NaN</td>\n    </tr>\n    <tr>\n      <th>8064</th>\n      <td>NaN</td>\n      <td>NaN</td>\n    </tr>\n    <tr>\n      <th>8065</th>\n      <td>NaN</td>\n      <td>NaN</td>\n    </tr>\n    <tr>\n      <th>8066</th>\n      <td>NaN</td>\n      <td>NaN</td>\n    </tr>\n    <tr>\n      <th>8067</th>\n      <td>NaN</td>\n      <td>NaN</td>\n    </tr>\n    <tr>\n      <th>8068</th>\n      <td>NaN</td>\n      <td>NaN</td>\n    </tr>\n    <tr>\n      <th>8069</th>\n      <td>NaN</td>\n      <td>NaN</td>\n    </tr>\n    <tr>\n      <th>8070</th>\n      <td>NaN</td>\n      <td>NaN</td>\n    </tr>\n    <tr>\n      <th>8071</th>\n      <td>NaN</td>\n      <td>NaN</td>\n    </tr>\n    <tr>\n      <th>8073</th>\n      <td>NaN</td>\n      <td>NaN</td>\n    </tr>\n    <tr>\n      <th>8074</th>\n      <td>NaN</td>\n      <td>NaN</td>\n    </tr>\n    <tr>\n      <th>8075</th>\n      <td>NaN</td>\n      <td>NaN</td>\n    </tr>\n    <tr>\n      <th>8076</th>\n      <td>NaN</td>\n      <td>NaN</td>\n    </tr>\n    <tr>\n      <th>8077</th>\n      <td>NaN</td>\n      <td>NaN</td>\n    </tr>\n    <tr>\n      <th>8078</th>\n      <td>NaN</td>\n      <td>NaN</td>\n    </tr>\n    <tr>\n      <th>8079</th>\n      <td>NaN</td>\n      <td>NaN</td>\n    </tr>\n    <tr>\n      <th>8080</th>\n      <td>NaN</td>\n      <td>NaN</td>\n    </tr>\n    <tr>\n      <th>8081</th>\n      <td>NaN</td>\n      <td>NaN</td>\n    </tr>\n    <tr>\n      <th>8082</th>\n      <td>NaN</td>\n      <td>NaN</td>\n    </tr>\n    <tr>\n      <th>8083</th>\n      <td>NaN</td>\n      <td>NaN</td>\n    </tr>\n    <tr>\n      <th>8084</th>\n      <td>NaN</td>\n      <td>NaN</td>\n    </tr>\n    <tr>\n      <th>8085</th>\n      <td>NaN</td>\n      <td>NaN</td>\n    </tr>\n    <tr>\n      <th>8086</th>\n      <td>NaN</td>\n      <td>NaN</td>\n    </tr>\n    <tr>\n      <th>8087</th>\n      <td>NaN</td>\n      <td>NaN</td>\n    </tr>\n    <tr>\n      <th>8088</th>\n      <td>NaN</td>\n      <td>NaN</td>\n    </tr>\n    <tr>\n      <th>8089</th>\n      <td>NaN</td>\n      <td>NaN</td>\n    </tr>\n    <tr>\n      <th>8293</th>\n      <td>NaN</td>\n      <td>NaN</td>\n    </tr>\n  </tbody>\n</table>\n</div>"
     },
     "execution_count": 10,
     "metadata": {},
     "output_type": "execute_result"
    }
   ],
   "source": [
    "temp = goals[['scorer', 'minute']]\n",
    "temp[temp['scorer'].isna()]   #to check if both columns intersect at missing values"
   ],
   "metadata": {
    "collapsed": false,
    "ExecuteTime": {
     "start_time": "2023-03-31T04:38:05.322543Z",
     "end_time": "2023-03-31T04:38:05.412574Z"
    }
   }
  },
  {
   "cell_type": "markdown",
   "source": [
    "Clearly, the <i>scorer</i> and <i>minute</i> columns have missing values, whenever <i>scorer</i> is missing, <i>minute</i> also is missing.\n",
    "For once, we can go ahead and remove the respective rows but, I would want to lose as little data as possible because the dataset is already pretty small (just above 40k observations).\n",
    "\n",
    "So, here is what I decided to do -\n",
    "* Remove the rows with missing <i>scorer</i>, since these form merely 0.1 % of the dataset and it is impractical to set a dummy scorer name(that makes no sense, right?)\n",
    "* Keep the rows where we have a <i>scorer</i> but <i>minute</i> is missing. Missing <i>minute</i>s can then be replaced by the mode of the <i>minute</i>s, i.e. the minute in which most goals are usually scored. This will preserve information as well as accuracy."
   ],
   "metadata": {
    "collapsed": false
   }
  },
  {
   "cell_type": "code",
   "execution_count": 12,
   "outputs": [
    {
     "data": {
      "text/plain": "0"
     },
     "execution_count": 12,
     "metadata": {},
     "output_type": "execute_result"
    }
   ],
   "source": [
    "goals = goals.dropna(subset='scorer')\n",
    "goals['scorer'].isna().sum()    #counting total NaN values in scorer"
   ],
   "metadata": {
    "collapsed": false,
    "ExecuteTime": {
     "start_time": "2023-03-31T04:39:53.802502Z",
     "end_time": "2023-03-31T04:39:53.838514Z"
    }
   }
  },
  {
   "cell_type": "code",
   "execution_count": 13,
   "outputs": [
    {
     "data": {
      "text/plain": "date         0\nhome_team    0\naway_team    0\nteam         0\nscorer       0\nminute       0\nown_goal     0\npenalty      0\ndtype: int64"
     },
     "execution_count": 13,
     "metadata": {},
     "output_type": "execute_result"
    }
   ],
   "source": [
    "mode_of_minute = int(goals['minute'].mode())\n",
    "goals['minute'] = goals['minute'].fillna(mode_of_minute)\n",
    "goals.isna().sum()"
   ],
   "metadata": {
    "collapsed": false,
    "ExecuteTime": {
     "start_time": "2023-03-31T04:43:54.899701Z",
     "end_time": "2023-03-31T04:43:54.932376Z"
    }
   }
  },
  {
   "cell_type": "markdown",
   "source": [
    "So, we have got rid of all the null values in the dataset. Let us now merge matches and goals to create our new dataframe, <i>all_goals</i>"
   ],
   "metadata": {
    "collapsed": false
   }
  },
  {
   "cell_type": "code",
   "execution_count": 14,
   "outputs": [
    {
     "data": {
      "text/plain": "             date  home_team away_team  home_score  away_score  \\\n0      1916-07-02      Chile   Uruguay           0           4   \n1      1916-07-02      Chile   Uruguay           0           4   \n2      1916-07-02      Chile   Uruguay           0           4   \n3      1916-07-02      Chile   Uruguay           0           4   \n4      1916-07-06  Argentina     Chile           6           1   \n...           ...        ...       ...         ...         ...   \n40954  2022-12-18  Argentina    France           3           3   \n40955  2022-12-18  Argentina    France           3           3   \n40956  2022-12-18  Argentina    France           3           3   \n40957  2022-12-18  Argentina    France           3           3   \n40958  2022-12-18  Argentina    France           3           3   \n\n           tournament          city    country  neutral       team  \\\n0        Copa América  Buenos Aires  Argentina     True    Uruguay   \n1        Copa América  Buenos Aires  Argentina     True    Uruguay   \n2        Copa América  Buenos Aires  Argentina     True    Uruguay   \n3        Copa América  Buenos Aires  Argentina     True    Uruguay   \n4        Copa América  Buenos Aires  Argentina    False  Argentina   \n...               ...           ...        ...      ...        ...   \n40954  FIFA World Cup        Lusail      Qatar     True  Argentina   \n40955  FIFA World Cup        Lusail      Qatar     True     France   \n40956  FIFA World Cup        Lusail      Qatar     True     France   \n40957  FIFA World Cup        Lusail      Qatar     True  Argentina   \n40958  FIFA World Cup        Lusail      Qatar     True     France   \n\n                 scorer  minute  own_goal  penalty  \n0       José Piendibene    44.0     False    False  \n1      Isabelino Gradín    55.0     False    False  \n2      Isabelino Gradín    70.0     False    False  \n3       José Piendibene    75.0     False    False  \n4         Alberto Ohaco     2.0     False    False  \n...                 ...     ...       ...      ...  \n40954    Ángel Di María    36.0     False    False  \n40955     Kylian Mbappé    80.0     False     True  \n40956     Kylian Mbappé    81.0     False    False  \n40957      Lionel Messi   109.0     False    False  \n40958     Kylian Mbappé   118.0     False     True  \n\n[40959 rows x 14 columns]",
      "text/html": "<div>\n<style scoped>\n    .dataframe tbody tr th:only-of-type {\n        vertical-align: middle;\n    }\n\n    .dataframe tbody tr th {\n        vertical-align: top;\n    }\n\n    .dataframe thead th {\n        text-align: right;\n    }\n</style>\n<table border=\"1\" class=\"dataframe\">\n  <thead>\n    <tr style=\"text-align: right;\">\n      <th></th>\n      <th>date</th>\n      <th>home_team</th>\n      <th>away_team</th>\n      <th>home_score</th>\n      <th>away_score</th>\n      <th>tournament</th>\n      <th>city</th>\n      <th>country</th>\n      <th>neutral</th>\n      <th>team</th>\n      <th>scorer</th>\n      <th>minute</th>\n      <th>own_goal</th>\n      <th>penalty</th>\n    </tr>\n  </thead>\n  <tbody>\n    <tr>\n      <th>0</th>\n      <td>1916-07-02</td>\n      <td>Chile</td>\n      <td>Uruguay</td>\n      <td>0</td>\n      <td>4</td>\n      <td>Copa América</td>\n      <td>Buenos Aires</td>\n      <td>Argentina</td>\n      <td>True</td>\n      <td>Uruguay</td>\n      <td>José Piendibene</td>\n      <td>44.0</td>\n      <td>False</td>\n      <td>False</td>\n    </tr>\n    <tr>\n      <th>1</th>\n      <td>1916-07-02</td>\n      <td>Chile</td>\n      <td>Uruguay</td>\n      <td>0</td>\n      <td>4</td>\n      <td>Copa América</td>\n      <td>Buenos Aires</td>\n      <td>Argentina</td>\n      <td>True</td>\n      <td>Uruguay</td>\n      <td>Isabelino Gradín</td>\n      <td>55.0</td>\n      <td>False</td>\n      <td>False</td>\n    </tr>\n    <tr>\n      <th>2</th>\n      <td>1916-07-02</td>\n      <td>Chile</td>\n      <td>Uruguay</td>\n      <td>0</td>\n      <td>4</td>\n      <td>Copa América</td>\n      <td>Buenos Aires</td>\n      <td>Argentina</td>\n      <td>True</td>\n      <td>Uruguay</td>\n      <td>Isabelino Gradín</td>\n      <td>70.0</td>\n      <td>False</td>\n      <td>False</td>\n    </tr>\n    <tr>\n      <th>3</th>\n      <td>1916-07-02</td>\n      <td>Chile</td>\n      <td>Uruguay</td>\n      <td>0</td>\n      <td>4</td>\n      <td>Copa América</td>\n      <td>Buenos Aires</td>\n      <td>Argentina</td>\n      <td>True</td>\n      <td>Uruguay</td>\n      <td>José Piendibene</td>\n      <td>75.0</td>\n      <td>False</td>\n      <td>False</td>\n    </tr>\n    <tr>\n      <th>4</th>\n      <td>1916-07-06</td>\n      <td>Argentina</td>\n      <td>Chile</td>\n      <td>6</td>\n      <td>1</td>\n      <td>Copa América</td>\n      <td>Buenos Aires</td>\n      <td>Argentina</td>\n      <td>False</td>\n      <td>Argentina</td>\n      <td>Alberto Ohaco</td>\n      <td>2.0</td>\n      <td>False</td>\n      <td>False</td>\n    </tr>\n    <tr>\n      <th>...</th>\n      <td>...</td>\n      <td>...</td>\n      <td>...</td>\n      <td>...</td>\n      <td>...</td>\n      <td>...</td>\n      <td>...</td>\n      <td>...</td>\n      <td>...</td>\n      <td>...</td>\n      <td>...</td>\n      <td>...</td>\n      <td>...</td>\n      <td>...</td>\n    </tr>\n    <tr>\n      <th>40954</th>\n      <td>2022-12-18</td>\n      <td>Argentina</td>\n      <td>France</td>\n      <td>3</td>\n      <td>3</td>\n      <td>FIFA World Cup</td>\n      <td>Lusail</td>\n      <td>Qatar</td>\n      <td>True</td>\n      <td>Argentina</td>\n      <td>Ángel Di María</td>\n      <td>36.0</td>\n      <td>False</td>\n      <td>False</td>\n    </tr>\n    <tr>\n      <th>40955</th>\n      <td>2022-12-18</td>\n      <td>Argentina</td>\n      <td>France</td>\n      <td>3</td>\n      <td>3</td>\n      <td>FIFA World Cup</td>\n      <td>Lusail</td>\n      <td>Qatar</td>\n      <td>True</td>\n      <td>France</td>\n      <td>Kylian Mbappé</td>\n      <td>80.0</td>\n      <td>False</td>\n      <td>True</td>\n    </tr>\n    <tr>\n      <th>40956</th>\n      <td>2022-12-18</td>\n      <td>Argentina</td>\n      <td>France</td>\n      <td>3</td>\n      <td>3</td>\n      <td>FIFA World Cup</td>\n      <td>Lusail</td>\n      <td>Qatar</td>\n      <td>True</td>\n      <td>France</td>\n      <td>Kylian Mbappé</td>\n      <td>81.0</td>\n      <td>False</td>\n      <td>False</td>\n    </tr>\n    <tr>\n      <th>40957</th>\n      <td>2022-12-18</td>\n      <td>Argentina</td>\n      <td>France</td>\n      <td>3</td>\n      <td>3</td>\n      <td>FIFA World Cup</td>\n      <td>Lusail</td>\n      <td>Qatar</td>\n      <td>True</td>\n      <td>Argentina</td>\n      <td>Lionel Messi</td>\n      <td>109.0</td>\n      <td>False</td>\n      <td>False</td>\n    </tr>\n    <tr>\n      <th>40958</th>\n      <td>2022-12-18</td>\n      <td>Argentina</td>\n      <td>France</td>\n      <td>3</td>\n      <td>3</td>\n      <td>FIFA World Cup</td>\n      <td>Lusail</td>\n      <td>Qatar</td>\n      <td>True</td>\n      <td>France</td>\n      <td>Kylian Mbappé</td>\n      <td>118.0</td>\n      <td>False</td>\n      <td>True</td>\n    </tr>\n  </tbody>\n</table>\n<p>40959 rows × 14 columns</p>\n</div>"
     },
     "execution_count": 14,
     "metadata": {},
     "output_type": "execute_result"
    }
   ],
   "source": [
    "all_goals = matches.merge(right=goals, left_on=['date', 'home_team', 'away_team'], right_on=['date', 'home_team', 'away_team'], how='inner' )\n",
    "all_goals"
   ],
   "metadata": {
    "collapsed": false,
    "ExecuteTime": {
     "start_time": "2023-03-31T04:45:34.354803Z",
     "end_time": "2023-03-31T04:45:34.421544Z"
    }
   }
  },
  {
   "cell_type": "markdown",
   "source": [
    "Since, the goals data in the given dataset for the years from 1872 to 1916 is not available but the match data is, I have decided not to delete the matches table because it still has some extra data that is nowhere else and might be useful later on."
   ],
   "metadata": {
    "collapsed": false
   }
  },
  {
   "cell_type": "code",
   "execution_count": 21,
   "outputs": [
    {
     "name": "stdout",
     "output_type": "stream",
     "text": [
      "Shape of matches: (44557, 9)\n",
      "Shape of goals: (40959, 8)\n",
      "Shape of all_goals: (40959, 14)\n",
      "Shape of penalties: (547, 4)\n"
     ]
    }
   ],
   "source": [
    "print('Shape of matches: {0}\\nShape of goals: {1}\\nShape of all_goals: {2}\\nShape of penalties: {3}'.format(matches.shape, goals.shape, all_goals.shape, penalties.shape))"
   ],
   "metadata": {
    "collapsed": false,
    "ExecuteTime": {
     "start_time": "2023-03-31T04:52:42.144089Z",
     "end_time": "2023-03-31T04:52:42.154391Z"
    }
   }
  },
  {
   "cell_type": "markdown",
   "source": [
    "Clearly, the shapes are consistent and accurate. Let us begin exploratory analysis now, but before that let me just tweak around our <i>all_goals</i> dataframe to see if I can find something more interesting.."
   ],
   "metadata": {
    "collapsed": false
   }
  },
  {
   "cell_type": "code",
   "execution_count": 22,
   "outputs": [
    {
     "data": {
      "text/plain": "         home_score    away_score        minute\ncount  40959.000000  40959.000000  40959.000000\nmean       2.642472      1.582924     50.223174\nstd        2.462098      1.712146     26.447382\nmin        0.000000      0.000000      1.000000\n25%        1.000000      0.000000     28.000000\n50%        2.000000      1.000000     51.000000\n75%        4.000000      2.000000     73.000000\nmax       31.000000     17.000000    122.000000",
      "text/html": "<div>\n<style scoped>\n    .dataframe tbody tr th:only-of-type {\n        vertical-align: middle;\n    }\n\n    .dataframe tbody tr th {\n        vertical-align: top;\n    }\n\n    .dataframe thead th {\n        text-align: right;\n    }\n</style>\n<table border=\"1\" class=\"dataframe\">\n  <thead>\n    <tr style=\"text-align: right;\">\n      <th></th>\n      <th>home_score</th>\n      <th>away_score</th>\n      <th>minute</th>\n    </tr>\n  </thead>\n  <tbody>\n    <tr>\n      <th>count</th>\n      <td>40959.000000</td>\n      <td>40959.000000</td>\n      <td>40959.000000</td>\n    </tr>\n    <tr>\n      <th>mean</th>\n      <td>2.642472</td>\n      <td>1.582924</td>\n      <td>50.223174</td>\n    </tr>\n    <tr>\n      <th>std</th>\n      <td>2.462098</td>\n      <td>1.712146</td>\n      <td>26.447382</td>\n    </tr>\n    <tr>\n      <th>min</th>\n      <td>0.000000</td>\n      <td>0.000000</td>\n      <td>1.000000</td>\n    </tr>\n    <tr>\n      <th>25%</th>\n      <td>1.000000</td>\n      <td>0.000000</td>\n      <td>28.000000</td>\n    </tr>\n    <tr>\n      <th>50%</th>\n      <td>2.000000</td>\n      <td>1.000000</td>\n      <td>51.000000</td>\n    </tr>\n    <tr>\n      <th>75%</th>\n      <td>4.000000</td>\n      <td>2.000000</td>\n      <td>73.000000</td>\n    </tr>\n    <tr>\n      <th>max</th>\n      <td>31.000000</td>\n      <td>17.000000</td>\n      <td>122.000000</td>\n    </tr>\n  </tbody>\n</table>\n</div>"
     },
     "execution_count": 22,
     "metadata": {},
     "output_type": "execute_result"
    }
   ],
   "source": [
    "all_goals.describe()"
   ],
   "metadata": {
    "collapsed": false,
    "ExecuteTime": {
     "start_time": "2023-03-31T06:00:13.658639Z",
     "end_time": "2023-03-31T06:00:13.698685Z"
    }
   }
  },
  {
   "cell_type": "code",
   "execution_count": 30,
   "outputs": [
    {
     "data": {
      "text/plain": "<matplotlib.legend.Legend at 0x20f092df970>"
     },
     "execution_count": 30,
     "metadata": {},
     "output_type": "execute_result"
    },
    {
     "data": {
      "text/plain": "<Figure size 640x480 with 1 Axes>",
      "image/png": "[encoded data removed]"
     },
     "metadata": {},
     "output_type": "display_data"
    }
   ],
   "source": [
    "ax = sns.kdeplot(data=all_goals, x='minute')\n",
    "ax.axvline(all_goals['minute'].mean(), color='g', label='mean')\n",
    "ax.axvline(all_goals['minute'].median(), color='r', label='median')\n",
    "ax.legend()"
   ],
   "metadata": {
    "collapsed": false,
    "ExecuteTime": {
     "start_time": "2023-03-31T06:07:40.581345Z",
     "end_time": "2023-03-31T06:07:41.544303Z"
    }
   }
  },
  {
   "cell_type": "code",
   "execution_count": 53,
   "outputs": [],
   "source": [],
   "metadata": {
    "collapsed": false,
    "ExecuteTime": {
     "start_time": "2023-03-31T06:19:16.500351Z",
     "end_time": "2023-03-31T06:19:17.282356Z"
    }
   }
  }
 ],
 "metadata": {
  "kernelspec": {
   "display_name": "Python 3",
   "language": "python",
   "name": "python3"
  },
  "language_info": {
   "codemirror_mode": {
    "name": "ipython",
    "version": 2
   },
   "file_extension": ".py",
   "mimetype": "text/x-python",
   "name": "python",
   "nbconvert_exporter": "python",
   "pygments_lexer": "ipython2",
   "version": "2.7.6"
  }
 },
 "nbformat": 4,
 "nbformat_minor": 0
}
