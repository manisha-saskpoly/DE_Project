{
 "cells": [
  {
   "cell_type": "code",
   "execution_count": 2,
   "metadata": {
    "collapsed": true,
    "ExecuteTime": {
     "start_time": "2023-04-01T15:57:42.121475Z",
     "end_time": "2023-04-01T15:57:42.143361Z"
    }
   },
   "outputs": [],
   "source": [
    "import pandas as pd\n",
    "import numpy as np\n",
    "import matplotlib.pyplot as plt\n",
    "import seaborn as sns"
   ]
  },
  {
   "cell_type": "markdown",
   "source": [
    "#### Loading the original data\n",
    "The dataset consists of 3 csv files -\n",
    " * **goalscorers.csv**, which contains all the goals scores in international football history\n",
    " * **results.csv**, which contains all the matches since 1876\n",
    " * **shootouts.csv** which contains all the penalty shoot-outs."
   ],
   "metadata": {
    "collapsed": false
   }
  },
  {
   "cell_type": "code",
   "execution_count": 2,
   "outputs": [],
   "source": [
    "goals = pd.read_csv('data/goalscorers.csv')\n",
    "matches = pd.read_csv('data/results.csv')\n",
    "penalties = pd.read_csv('data/shootouts.csv')"
   ],
   "metadata": {
    "collapsed": false,
    "ExecuteTime": {
     "start_time": "2023-03-31T06:20:44.064092Z",
     "end_time": "2023-03-31T06:20:44.214865Z"
    }
   }
  },
  {
   "cell_type": "markdown",
   "source": [
    "Let us have a quick look at the data."
   ],
   "metadata": {
    "collapsed": false
   }
  },
  {
   "cell_type": "code",
   "execution_count": 3,
   "outputs": [
    {
     "data": {
      "text/plain": "             date  home_team away_team       team            scorer  minute  \\\n0      1916-07-02      Chile   Uruguay    Uruguay   José Piendibene    44.0   \n1      1916-07-02      Chile   Uruguay    Uruguay  Isabelino Gradín    55.0   \n2      1916-07-02      Chile   Uruguay    Uruguay  Isabelino Gradín    70.0   \n3      1916-07-02      Chile   Uruguay    Uruguay   José Piendibene    75.0   \n4      1916-07-06  Argentina     Chile  Argentina     Alberto Ohaco     2.0   \n...           ...        ...       ...        ...               ...     ...   \n41003  2022-12-18  Argentina    France  Argentina    Ángel Di María    36.0   \n41004  2022-12-18  Argentina    France     France     Kylian Mbappé    80.0   \n41005  2022-12-18  Argentina    France     France     Kylian Mbappé    81.0   \n41006  2022-12-18  Argentina    France  Argentina      Lionel Messi   109.0   \n41007  2022-12-18  Argentina    France     France     Kylian Mbappé   118.0   \n\n       own_goal  penalty  \n0         False    False  \n1         False    False  \n2         False    False  \n3         False    False  \n4         False    False  \n...         ...      ...  \n41003     False    False  \n41004     False     True  \n41005     False    False  \n41006     False    False  \n41007     False     True  \n\n[41008 rows x 8 columns]",
      "text/html": "<div>\n<style scoped>\n    .dataframe tbody tr th:only-of-type {\n        vertical-align: middle;\n    }\n\n    .dataframe tbody tr th {\n        vertical-align: top;\n    }\n\n    .dataframe thead th {\n        text-align: right;\n    }\n</style>\n<table border=\"1\" class=\"dataframe\">\n  <thead>\n    <tr style=\"text-align: right;\">\n      <th></th>\n      <th>date</th>\n      <th>home_team</th>\n      <th>away_team</th>\n      <th>team</th>\n      <th>scorer</th>\n      <th>minute</th>\n      <th>own_goal</th>\n      <th>penalty</th>\n    </tr>\n  </thead>\n  <tbody>\n    <tr>\n      <th>0</th>\n      <td>1916-07-02</td>\n      <td>Chile</td>\n      <td>Uruguay</td>\n      <td>Uruguay</td>\n      <td>José Piendibene</td>\n      <td>44.0</td>\n      <td>False</td>\n      <td>False</td>\n    </tr>\n    <tr>\n      <th>1</th>\n      <td>1916-07-02</td>\n      <td>Chile</td>\n      <td>Uruguay</td>\n      <td>Uruguay</td>\n      <td>Isabelino Gradín</td>\n      <td>55.0</td>\n      <td>False</td>\n      <td>False</td>\n    </tr>\n    <tr>\n      <th>2</th>\n      <td>1916-07-02</td>\n      <td>Chile</td>\n      <td>Uruguay</td>\n      <td>Uruguay</td>\n      <td>Isabelino Gradín</td>\n      <td>70.0</td>\n      <td>False</td>\n      <td>False</td>\n    </tr>\n    <tr>\n      <th>3</th>\n      <td>1916-07-02</td>\n      <td>Chile</td>\n      <td>Uruguay</td>\n      <td>Uruguay</td>\n      <td>José Piendibene</td>\n      <td>75.0</td>\n      <td>False</td>\n      <td>False</td>\n    </tr>\n    <tr>\n      <th>4</th>\n      <td>1916-07-06</td>\n      <td>Argentina</td>\n      <td>Chile</td>\n      <td>Argentina</td>\n      <td>Alberto Ohaco</td>\n      <td>2.0</td>\n      <td>False</td>\n      <td>False</td>\n    </tr>\n    <tr>\n      <th>...</th>\n      <td>...</td>\n      <td>...</td>\n      <td>...</td>\n      <td>...</td>\n      <td>...</td>\n      <td>...</td>\n      <td>...</td>\n      <td>...</td>\n    </tr>\n    <tr>\n      <th>41003</th>\n      <td>2022-12-18</td>\n      <td>Argentina</td>\n      <td>France</td>\n      <td>Argentina</td>\n      <td>Ángel Di María</td>\n      <td>36.0</td>\n      <td>False</td>\n      <td>False</td>\n    </tr>\n    <tr>\n      <th>41004</th>\n      <td>2022-12-18</td>\n      <td>Argentina</td>\n      <td>France</td>\n      <td>France</td>\n      <td>Kylian Mbappé</td>\n      <td>80.0</td>\n      <td>False</td>\n      <td>True</td>\n    </tr>\n    <tr>\n      <th>41005</th>\n      <td>2022-12-18</td>\n      <td>Argentina</td>\n      <td>France</td>\n      <td>France</td>\n      <td>Kylian Mbappé</td>\n      <td>81.0</td>\n      <td>False</td>\n      <td>False</td>\n    </tr>\n    <tr>\n      <th>41006</th>\n      <td>2022-12-18</td>\n      <td>Argentina</td>\n      <td>France</td>\n      <td>Argentina</td>\n      <td>Lionel Messi</td>\n      <td>109.0</td>\n      <td>False</td>\n      <td>False</td>\n    </tr>\n    <tr>\n      <th>41007</th>\n      <td>2022-12-18</td>\n      <td>Argentina</td>\n      <td>France</td>\n      <td>France</td>\n      <td>Kylian Mbappé</td>\n      <td>118.0</td>\n      <td>False</td>\n      <td>True</td>\n    </tr>\n  </tbody>\n</table>\n<p>41008 rows × 8 columns</p>\n</div>"
     },
     "execution_count": 3,
     "metadata": {},
     "output_type": "execute_result"
    }
   ],
   "source": [
    "goals"
   ],
   "metadata": {
    "collapsed": false,
    "ExecuteTime": {
     "start_time": "2023-03-31T06:20:44.214865Z",
     "end_time": "2023-03-31T06:20:44.234912Z"
    }
   }
  },
  {
   "cell_type": "code",
   "execution_count": 4,
   "outputs": [
    {
     "data": {
      "text/plain": "             date                     home_team                 away_team  \\\n0      1872-11-30                      Scotland                   England   \n1      1873-03-08                       England                  Scotland   \n2      1874-03-07                      Scotland                   England   \n3      1875-03-06                       England                  Scotland   \n4      1876-03-04                      Scotland                   England   \n...           ...                           ...                       ...   \n44552  2023-03-28                         Haiti                   Bermuda   \n44553  2023-03-28                        Guyana                Montserrat   \n44554  2023-03-28                       Bonaire  Turks and Caicos Islands   \n44555  2023-03-28  United States Virgin Islands              Sint Maarten   \n44556  2023-03-29                        Rwanda                     Benin   \n\n       home_score  away_score                            tournament  \\\n0               0           0                              Friendly   \n1               4           2                              Friendly   \n2               2           1                              Friendly   \n3               2           2                              Friendly   \n4               3           0                              Friendly   \n...           ...         ...                                   ...   \n44552           3           1               CONCACAF Nations League   \n44553           0           0               CONCACAF Nations League   \n44554           1           2               CONCACAF Nations League   \n44555           1           2               CONCACAF Nations League   \n44556           1           1  African Cup of Nations qualification   \n\n                city                       country  neutral  \n0            Glasgow                      Scotland    False  \n1             London                       England    False  \n2            Glasgow                      Scotland    False  \n3             London                       England    False  \n4            Glasgow                      Scotland    False  \n...              ...                           ...      ...  \n44552  San Cristóbal            Dominican Republic     True  \n44553     Bridgetown                      Barbados     True  \n44554         Rincon                       Bonaire    False  \n44555    Saint Croix  United States Virgin Islands    False  \n44556         Kigali                        Rwanda    False  \n\n[44557 rows x 9 columns]",
      "text/html": "<div>\n<style scoped>\n    .dataframe tbody tr th:only-of-type {\n        vertical-align: middle;\n    }\n\n    .dataframe tbody tr th {\n        vertical-align: top;\n    }\n\n    .dataframe thead th {\n        text-align: right;\n    }\n</style>\n<table border=\"1\" class=\"dataframe\">\n  <thead>\n    <tr style=\"text-align: right;\">\n      <th></th>\n      <th>date</th>\n      <th>home_team</th>\n      <th>away_team</th>\n      <th>home_score</th>\n      <th>away_score</th>\n      <th>tournament</th>\n      <th>city</th>\n      <th>country</th>\n      <th>neutral</th>\n    </tr>\n  </thead>\n  <tbody>\n    <tr>\n      <th>0</th>\n      <td>1872-11-30</td>\n      <td>Scotland</td>\n      <td>England</td>\n      <td>0</td>\n      <td>0</td>\n      <td>Friendly</td>\n      <td>Glasgow</td>\n      <td>Scotland</td>\n      <td>False</td>\n    </tr>\n    <tr>\n      <th>1</th>\n      <td>1873-03-08</td>\n      <td>England</td>\n      <td>Scotland</td>\n      <td>4</td>\n      <td>2</td>\n      <td>Friendly</td>\n      <td>London</td>\n      <td>England</td>\n      <td>False</td>\n    </tr>\n    <tr>\n      <th>2</th>\n      <td>1874-03-07</td>\n      <td>Scotland</td>\n      <td>England</td>\n      <td>2</td>\n      <td>1</td>\n      <td>Friendly</td>\n      <td>Glasgow</td>\n      <td>Scotland</td>\n      <td>False</td>\n    </tr>\n    <tr>\n      <th>3</th>\n      <td>1875-03-06</td>\n      <td>England</td>\n      <td>Scotland</td>\n      <td>2</td>\n      <td>2</td>\n      <td>Friendly</td>\n      <td>London</td>\n      <td>England</td>\n      <td>False</td>\n    </tr>\n    <tr>\n      <th>4</th>\n      <td>1876-03-04</td>\n      <td>Scotland</td>\n      <td>England</td>\n      <td>3</td>\n      <td>0</td>\n      <td>Friendly</td>\n      <td>Glasgow</td>\n      <td>Scotland</td>\n      <td>False</td>\n    </tr>\n    <tr>\n      <th>...</th>\n      <td>...</td>\n      <td>...</td>\n      <td>...</td>\n      <td>...</td>\n      <td>...</td>\n      <td>...</td>\n      <td>...</td>\n      <td>...</td>\n      <td>...</td>\n    </tr>\n    <tr>\n      <th>44552</th>\n      <td>2023-03-28</td>\n      <td>Haiti</td>\n      <td>Bermuda</td>\n      <td>3</td>\n      <td>1</td>\n      <td>CONCACAF Nations League</td>\n      <td>San Cristóbal</td>\n      <td>Dominican Republic</td>\n      <td>True</td>\n    </tr>\n    <tr>\n      <th>44553</th>\n      <td>2023-03-28</td>\n      <td>Guyana</td>\n      <td>Montserrat</td>\n      <td>0</td>\n      <td>0</td>\n      <td>CONCACAF Nations League</td>\n      <td>Bridgetown</td>\n      <td>Barbados</td>\n      <td>True</td>\n    </tr>\n    <tr>\n      <th>44554</th>\n      <td>2023-03-28</td>\n      <td>Bonaire</td>\n      <td>Turks and Caicos Islands</td>\n      <td>1</td>\n      <td>2</td>\n      <td>CONCACAF Nations League</td>\n      <td>Rincon</td>\n      <td>Bonaire</td>\n      <td>False</td>\n    </tr>\n    <tr>\n      <th>44555</th>\n      <td>2023-03-28</td>\n      <td>United States Virgin Islands</td>\n      <td>Sint Maarten</td>\n      <td>1</td>\n      <td>2</td>\n      <td>CONCACAF Nations League</td>\n      <td>Saint Croix</td>\n      <td>United States Virgin Islands</td>\n      <td>False</td>\n    </tr>\n    <tr>\n      <th>44556</th>\n      <td>2023-03-29</td>\n      <td>Rwanda</td>\n      <td>Benin</td>\n      <td>1</td>\n      <td>1</td>\n      <td>African Cup of Nations qualification</td>\n      <td>Kigali</td>\n      <td>Rwanda</td>\n      <td>False</td>\n    </tr>\n  </tbody>\n</table>\n<p>44557 rows × 9 columns</p>\n</div>"
     },
     "execution_count": 4,
     "metadata": {},
     "output_type": "execute_result"
    }
   ],
   "source": [
    "matches"
   ],
   "metadata": {
    "collapsed": false,
    "ExecuteTime": {
     "start_time": "2023-03-31T06:20:44.234912Z",
     "end_time": "2023-03-31T06:20:44.324956Z"
    }
   }
  },
  {
   "cell_type": "code",
   "execution_count": 5,
   "outputs": [
    {
     "data": {
      "text/plain": "           date    home_team         away_team       winner\n0    1967-08-22        India            Taiwan       Taiwan\n1    1971-11-14  South Korea  Vietnam Republic  South Korea\n2    1972-05-07  South Korea              Iraq         Iraq\n3    1972-05-17     Thailand       South Korea  South Korea\n4    1972-05-19     Thailand          Cambodia     Thailand\n..          ...          ...               ...          ...\n542  2022-12-05        Japan           Croatia      Croatia\n543  2022-12-06      Morocco             Spain      Morocco\n544  2022-12-09      Croatia            Brazil      Croatia\n545  2022-12-09  Netherlands         Argentina    Argentina\n546  2022-12-18    Argentina            France    Argentina\n\n[547 rows x 4 columns]",
      "text/html": "<div>\n<style scoped>\n    .dataframe tbody tr th:only-of-type {\n        vertical-align: middle;\n    }\n\n    .dataframe tbody tr th {\n        vertical-align: top;\n    }\n\n    .dataframe thead th {\n        text-align: right;\n    }\n</style>\n<table border=\"1\" class=\"dataframe\">\n  <thead>\n    <tr style=\"text-align: right;\">\n      <th></th>\n      <th>date</th>\n      <th>home_team</th>\n      <th>away_team</th>\n      <th>winner</th>\n    </tr>\n  </thead>\n  <tbody>\n    <tr>\n      <th>0</th>\n      <td>1967-08-22</td>\n      <td>India</td>\n      <td>Taiwan</td>\n      <td>Taiwan</td>\n    </tr>\n    <tr>\n      <th>1</th>\n      <td>1971-11-14</td>\n      <td>South Korea</td>\n      <td>Vietnam Republic</td>\n      <td>South Korea</td>\n    </tr>\n    <tr>\n      <th>2</th>\n      <td>1972-05-07</td>\n      <td>South Korea</td>\n      <td>Iraq</td>\n      <td>Iraq</td>\n    </tr>\n    <tr>\n      <th>3</th>\n      <td>1972-05-17</td>\n      <td>Thailand</td>\n      <td>South Korea</td>\n      <td>South Korea</td>\n    </tr>\n    <tr>\n      <th>4</th>\n      <td>1972-05-19</td>\n      <td>Thailand</td>\n      <td>Cambodia</td>\n      <td>Thailand</td>\n    </tr>\n    <tr>\n      <th>...</th>\n      <td>...</td>\n      <td>...</td>\n      <td>...</td>\n      <td>...</td>\n    </tr>\n    <tr>\n      <th>542</th>\n      <td>2022-12-05</td>\n      <td>Japan</td>\n      <td>Croatia</td>\n      <td>Croatia</td>\n    </tr>\n    <tr>\n      <th>543</th>\n      <td>2022-12-06</td>\n      <td>Morocco</td>\n      <td>Spain</td>\n      <td>Morocco</td>\n    </tr>\n    <tr>\n      <th>544</th>\n      <td>2022-12-09</td>\n      <td>Croatia</td>\n      <td>Brazil</td>\n      <td>Croatia</td>\n    </tr>\n    <tr>\n      <th>545</th>\n      <td>2022-12-09</td>\n      <td>Netherlands</td>\n      <td>Argentina</td>\n      <td>Argentina</td>\n    </tr>\n    <tr>\n      <th>546</th>\n      <td>2022-12-18</td>\n      <td>Argentina</td>\n      <td>France</td>\n      <td>Argentina</td>\n    </tr>\n  </tbody>\n</table>\n<p>547 rows × 4 columns</p>\n</div>"
     },
     "execution_count": 5,
     "metadata": {},
     "output_type": "execute_result"
    }
   ],
   "source": [
    "penalties"
   ],
   "metadata": {
    "collapsed": false,
    "ExecuteTime": {
     "start_time": "2023-03-31T06:20:44.264946Z",
     "end_time": "2023-03-31T06:20:44.356473Z"
    }
   }
  },
  {
   "cell_type": "markdown",
   "source": [
    "Looking at the first two tables, I feel one more table can be formed by merging the two, which can be quite useful because then we will have all the goals in every match segregated at a place, instead of two different tables for the same purpose.\n",
    "\n",
    "However, merging operations might lead to increase the number of missing values even further if there already are missing values in the dataframes. So, we need to check for and treat missing values before merging."
   ],
   "metadata": {
    "collapsed": false
   }
  },
  {
   "cell_type": "code",
   "execution_count": 6,
   "outputs": [
    {
     "data": {
      "text/plain": "date          0\nhome_team     0\naway_team     0\nhome_score    0\naway_score    0\ntournament    0\ncity          0\ncountry       0\nneutral       0\ndtype: int64"
     },
     "execution_count": 6,
     "metadata": {},
     "output_type": "execute_result"
    }
   ],
   "source": [
    "matches.isna().sum()    #counts missing values for each column"
   ],
   "metadata": {
    "collapsed": false,
    "ExecuteTime": {
     "start_time": "2023-03-31T06:20:44.284955Z",
     "end_time": "2023-03-31T06:20:44.395006Z"
    }
   }
  },
  {
   "cell_type": "code",
   "execution_count": 7,
   "outputs": [
    {
     "data": {
      "text/plain": "date         0\nhome_team    0\naway_team    0\nwinner       0\ndtype: int64"
     },
     "execution_count": 7,
     "metadata": {},
     "output_type": "execute_result"
    }
   ],
   "source": [
    "penalties.isna().sum()"
   ],
   "metadata": {
    "collapsed": false,
    "ExecuteTime": {
     "start_time": "2023-03-31T06:20:44.324956Z",
     "end_time": "2023-03-31T06:20:44.395006Z"
    }
   }
  },
  {
   "cell_type": "markdown",
   "source": [
    "Thankfully, **matches** and **penalties** tables do not have any missing values."
   ],
   "metadata": {
    "collapsed": false
   }
  },
  {
   "cell_type": "code",
   "execution_count": 8,
   "outputs": [
    {
     "data": {
      "text/plain": "date           0\nhome_team      0\naway_team      0\nteam           0\nscorer        49\nminute       258\nown_goal       0\npenalty        0\ndtype: int64"
     },
     "execution_count": 8,
     "metadata": {},
     "output_type": "execute_result"
    }
   ],
   "source": [
    "goals.isna().sum()"
   ],
   "metadata": {
    "collapsed": false,
    "ExecuteTime": {
     "start_time": "2023-03-31T06:20:44.344956Z",
     "end_time": "2023-03-31T06:20:44.505030Z"
    }
   }
  },
  {
   "cell_type": "code",
   "execution_count": 9,
   "outputs": [
    {
     "data": {
      "text/plain": "     scorer  minute\n8012    NaN     NaN\n8013    NaN     NaN\n8014    NaN     NaN\n8015    NaN     NaN\n8016    NaN     NaN\n8017    NaN     NaN\n8018    NaN     NaN\n8019    NaN     NaN\n8020    NaN     NaN\n8021    NaN     NaN\n8022    NaN     NaN\n8040    NaN     NaN\n8041    NaN     NaN\n8042    NaN     NaN\n8043    NaN     NaN\n8044    NaN     NaN\n8045    NaN     NaN\n8046    NaN     NaN\n8059    NaN     NaN\n8060    NaN     NaN\n8061    NaN     NaN\n8062    NaN     NaN\n8063    NaN     NaN\n8064    NaN     NaN\n8065    NaN     NaN\n8066    NaN     NaN\n8067    NaN     NaN\n8068    NaN     NaN\n8069    NaN     NaN\n8070    NaN     NaN\n8071    NaN     NaN\n8073    NaN     NaN\n8074    NaN     NaN\n8075    NaN     NaN\n8076    NaN     NaN\n8077    NaN     NaN\n8078    NaN     NaN\n8079    NaN     NaN\n8080    NaN     NaN\n8081    NaN     NaN\n8082    NaN     NaN\n8083    NaN     NaN\n8084    NaN     NaN\n8085    NaN     NaN\n8086    NaN     NaN\n8087    NaN     NaN\n8088    NaN     NaN\n8089    NaN     NaN\n8293    NaN     NaN",
      "text/html": "<div>\n<style scoped>\n    .dataframe tbody tr th:only-of-type {\n        vertical-align: middle;\n    }\n\n    .dataframe tbody tr th {\n        vertical-align: top;\n    }\n\n    .dataframe thead th {\n        text-align: right;\n    }\n</style>\n<table border=\"1\" class=\"dataframe\">\n  <thead>\n    <tr style=\"text-align: right;\">\n      <th></th>\n      <th>scorer</th>\n      <th>minute</th>\n    </tr>\n  </thead>\n  <tbody>\n    <tr>\n      <th>8012</th>\n      <td>NaN</td>\n      <td>NaN</td>\n    </tr>\n    <tr>\n      <th>8013</th>\n      <td>NaN</td>\n      <td>NaN</td>\n    </tr>\n    <tr>\n      <th>8014</th>\n      <td>NaN</td>\n      <td>NaN</td>\n    </tr>\n    <tr>\n      <th>8015</th>\n      <td>NaN</td>\n      <td>NaN</td>\n    </tr>\n    <tr>\n      <th>8016</th>\n      <td>NaN</td>\n      <td>NaN</td>\n    </tr>\n    <tr>\n      <th>8017</th>\n      <td>NaN</td>\n      <td>NaN</td>\n    </tr>\n    <tr>\n      <th>8018</th>\n      <td>NaN</td>\n      <td>NaN</td>\n    </tr>\n    <tr>\n      <th>8019</th>\n      <td>NaN</td>\n      <td>NaN</td>\n    </tr>\n    <tr>\n      <th>8020</th>\n      <td>NaN</td>\n      <td>NaN</td>\n    </tr>\n    <tr>\n      <th>8021</th>\n      <td>NaN</td>\n      <td>NaN</td>\n    </tr>\n    <tr>\n      <th>8022</th>\n      <td>NaN</td>\n      <td>NaN</td>\n    </tr>\n    <tr>\n      <th>8040</th>\n      <td>NaN</td>\n      <td>NaN</td>\n    </tr>\n    <tr>\n      <th>8041</th>\n      <td>NaN</td>\n      <td>NaN</td>\n    </tr>\n    <tr>\n      <th>8042</th>\n      <td>NaN</td>\n      <td>NaN</td>\n    </tr>\n    <tr>\n      <th>8043</th>\n      <td>NaN</td>\n      <td>NaN</td>\n    </tr>\n    <tr>\n      <th>8044</th>\n      <td>NaN</td>\n      <td>NaN</td>\n    </tr>\n    <tr>\n      <th>8045</th>\n      <td>NaN</td>\n      <td>NaN</td>\n    </tr>\n    <tr>\n      <th>8046</th>\n      <td>NaN</td>\n      <td>NaN</td>\n    </tr>\n    <tr>\n      <th>8059</th>\n      <td>NaN</td>\n      <td>NaN</td>\n    </tr>\n    <tr>\n      <th>8060</th>\n      <td>NaN</td>\n      <td>NaN</td>\n    </tr>\n    <tr>\n      <th>8061</th>\n      <td>NaN</td>\n      <td>NaN</td>\n    </tr>\n    <tr>\n      <th>8062</th>\n      <td>NaN</td>\n      <td>NaN</td>\n    </tr>\n    <tr>\n      <th>8063</th>\n      <td>NaN</td>\n      <td>NaN</td>\n    </tr>\n    <tr>\n      <th>8064</th>\n      <td>NaN</td>\n      <td>NaN</td>\n    </tr>\n    <tr>\n      <th>8065</th>\n      <td>NaN</td>\n      <td>NaN</td>\n    </tr>\n    <tr>\n      <th>8066</th>\n      <td>NaN</td>\n      <td>NaN</td>\n    </tr>\n    <tr>\n      <th>8067</th>\n      <td>NaN</td>\n      <td>NaN</td>\n    </tr>\n    <tr>\n      <th>8068</th>\n      <td>NaN</td>\n      <td>NaN</td>\n    </tr>\n    <tr>\n      <th>8069</th>\n      <td>NaN</td>\n      <td>NaN</td>\n    </tr>\n    <tr>\n      <th>8070</th>\n      <td>NaN</td>\n      <td>NaN</td>\n    </tr>\n    <tr>\n      <th>8071</th>\n      <td>NaN</td>\n      <td>NaN</td>\n    </tr>\n    <tr>\n      <th>8073</th>\n      <td>NaN</td>\n      <td>NaN</td>\n    </tr>\n    <tr>\n      <th>8074</th>\n      <td>NaN</td>\n      <td>NaN</td>\n    </tr>\n    <tr>\n      <th>8075</th>\n      <td>NaN</td>\n      <td>NaN</td>\n    </tr>\n    <tr>\n      <th>8076</th>\n      <td>NaN</td>\n      <td>NaN</td>\n    </tr>\n    <tr>\n      <th>8077</th>\n      <td>NaN</td>\n      <td>NaN</td>\n    </tr>\n    <tr>\n      <th>8078</th>\n      <td>NaN</td>\n      <td>NaN</td>\n    </tr>\n    <tr>\n      <th>8079</th>\n      <td>NaN</td>\n      <td>NaN</td>\n    </tr>\n    <tr>\n      <th>8080</th>\n      <td>NaN</td>\n      <td>NaN</td>\n    </tr>\n    <tr>\n      <th>8081</th>\n      <td>NaN</td>\n      <td>NaN</td>\n    </tr>\n    <tr>\n      <th>8082</th>\n      <td>NaN</td>\n      <td>NaN</td>\n    </tr>\n    <tr>\n      <th>8083</th>\n      <td>NaN</td>\n      <td>NaN</td>\n    </tr>\n    <tr>\n      <th>8084</th>\n      <td>NaN</td>\n      <td>NaN</td>\n    </tr>\n    <tr>\n      <th>8085</th>\n      <td>NaN</td>\n      <td>NaN</td>\n    </tr>\n    <tr>\n      <th>8086</th>\n      <td>NaN</td>\n      <td>NaN</td>\n    </tr>\n    <tr>\n      <th>8087</th>\n      <td>NaN</td>\n      <td>NaN</td>\n    </tr>\n    <tr>\n      <th>8088</th>\n      <td>NaN</td>\n      <td>NaN</td>\n    </tr>\n    <tr>\n      <th>8089</th>\n      <td>NaN</td>\n      <td>NaN</td>\n    </tr>\n    <tr>\n      <th>8293</th>\n      <td>NaN</td>\n      <td>NaN</td>\n    </tr>\n  </tbody>\n</table>\n</div>"
     },
     "execution_count": 9,
     "metadata": {},
     "output_type": "execute_result"
    }
   ],
   "source": [
    "temp = goals[['scorer', 'minute']]\n",
    "temp[temp['scorer'].isna()]   #to check if both columns intersect at missing values"
   ],
   "metadata": {
    "collapsed": false,
    "ExecuteTime": {
     "start_time": "2023-03-31T06:20:44.384990Z",
     "end_time": "2023-03-31T06:20:44.505030Z"
    }
   }
  },
  {
   "cell_type": "markdown",
   "source": [
    "Clearly, the <i>scorer</i> and <i>minute</i> columns have missing values, whenever <i>scorer</i> is missing, <i>minute</i> also is missing.\n",
    "For once, we can go ahead and remove the respective rows but, I would want to lose as little data as possible because the dataset is already pretty small (just above 40k observations).\n",
    "\n",
    "So, here is what I decided to do -\n",
    "* Remove the rows with missing <i>scorer</i>, since these form merely 0.1 % of the dataset and it is impractical to set a dummy scorer name(that makes no sense, right?)\n",
    "* Keep the rows where we have a <i>scorer</i> but <i>minute</i> is missing. Missing <i>minute</i>s can then be replaced by the mode of the <i>minute</i>s, i.e. the minute in which most goals are usually scored. This will preserve information as well as accuracy."
   ],
   "metadata": {
    "collapsed": false
   }
  },
  {
   "cell_type": "code",
   "execution_count": 10,
   "outputs": [
    {
     "data": {
      "text/plain": "0"
     },
     "execution_count": 10,
     "metadata": {},
     "output_type": "execute_result"
    }
   ],
   "source": [
    "goals = goals.dropna(subset='scorer')\n",
    "goals['scorer'].isna().sum()    #counting total NaN values in scorer"
   ],
   "metadata": {
    "collapsed": false,
    "ExecuteTime": {
     "start_time": "2023-03-31T06:20:44.404996Z",
     "end_time": "2023-03-31T06:20:44.593572Z"
    }
   }
  },
  {
   "cell_type": "code",
   "execution_count": 11,
   "outputs": [
    {
     "name": "stderr",
     "output_type": "stream",
     "text": [
      "C:\\Users\\thory\\AppData\\Local\\Temp\\ipykernel_76776\\2595038585.py:2: SettingWithCopyWarning: \n",
      "A value is trying to be set on a copy of a slice from a DataFrame.\n",
      "Try using .loc[row_indexer,col_indexer] = value instead\n",
      "\n",
      "See the caveats in the documentation: https://pandas.pydata.org/pandas-docs/stable/user_guide/indexing.html#returning-a-view-versus-a-copy\n",
      "  goals['minute'] = goals['minute'].fillna(mode_of_minute)\n"
     ]
    },
    {
     "data": {
      "text/plain": "date         0\nhome_team    0\naway_team    0\nteam         0\nscorer       0\nminute       0\nown_goal     0\npenalty      0\ndtype: int64"
     },
     "execution_count": 11,
     "metadata": {},
     "output_type": "execute_result"
    }
   ],
   "source": [
    "mode_of_minute = int(goals['minute'].mode())\n",
    "goals['minute'] = goals['minute'].fillna(mode_of_minute)\n",
    "goals.isna().sum()"
   ],
   "metadata": {
    "collapsed": false,
    "ExecuteTime": {
     "start_time": "2023-03-31T06:20:44.434990Z",
     "end_time": "2023-03-31T06:20:44.622574Z"
    }
   }
  },
  {
   "cell_type": "markdown",
   "source": [
    "So, we have got rid of all the null values in the dataset. Let us now merge matches and goals to create our new dataframe, <i>all_goals</i>"
   ],
   "metadata": {
    "collapsed": false
   }
  },
  {
   "cell_type": "code",
   "execution_count": 29,
   "outputs": [
    {
     "data": {
      "text/plain": "             date  home_team away_team  home_score  away_score  \\\n0      1916-07-02      Chile   Uruguay           0           4   \n1      1916-07-02      Chile   Uruguay           0           4   \n2      1916-07-02      Chile   Uruguay           0           4   \n3      1916-07-02      Chile   Uruguay           0           4   \n4      1916-07-06  Argentina     Chile           6           1   \n...           ...        ...       ...         ...         ...   \n40954  2022-12-18  Argentina    France           3           3   \n40955  2022-12-18  Argentina    France           3           3   \n40956  2022-12-18  Argentina    France           3           3   \n40957  2022-12-18  Argentina    France           3           3   \n40958  2022-12-18  Argentina    France           3           3   \n\n           tournament          city    country  neutral       team  \\\n0        Copa América  Buenos Aires  Argentina     True    Uruguay   \n1        Copa América  Buenos Aires  Argentina     True    Uruguay   \n2        Copa América  Buenos Aires  Argentina     True    Uruguay   \n3        Copa América  Buenos Aires  Argentina     True    Uruguay   \n4        Copa América  Buenos Aires  Argentina    False  Argentina   \n...               ...           ...        ...      ...        ...   \n40954  FIFA World Cup        Lusail      Qatar     True  Argentina   \n40955  FIFA World Cup        Lusail      Qatar     True     France   \n40956  FIFA World Cup        Lusail      Qatar     True     France   \n40957  FIFA World Cup        Lusail      Qatar     True  Argentina   \n40958  FIFA World Cup        Lusail      Qatar     True     France   \n\n                 scorer  minute  own_goal  penalty  \n0       José Piendibene    44.0     False    False  \n1      Isabelino Gradín    55.0     False    False  \n2      Isabelino Gradín    70.0     False    False  \n3       José Piendibene    75.0     False    False  \n4         Alberto Ohaco     2.0     False    False  \n...                 ...     ...       ...      ...  \n40954    Ángel Di María    36.0     False    False  \n40955     Kylian Mbappé    80.0     False     True  \n40956     Kylian Mbappé    81.0     False    False  \n40957      Lionel Messi   109.0     False    False  \n40958     Kylian Mbappé   118.0     False     True  \n\n[40959 rows x 14 columns]",
      "text/html": "<div>\n<style scoped>\n    .dataframe tbody tr th:only-of-type {\n        vertical-align: middle;\n    }\n\n    .dataframe tbody tr th {\n        vertical-align: top;\n    }\n\n    .dataframe thead th {\n        text-align: right;\n    }\n</style>\n<table border=\"1\" class=\"dataframe\">\n  <thead>\n    <tr style=\"text-align: right;\">\n      <th></th>\n      <th>date</th>\n      <th>home_team</th>\n      <th>away_team</th>\n      <th>home_score</th>\n      <th>away_score</th>\n      <th>tournament</th>\n      <th>city</th>\n      <th>country</th>\n      <th>neutral</th>\n      <th>team</th>\n      <th>scorer</th>\n      <th>minute</th>\n      <th>own_goal</th>\n      <th>penalty</th>\n    </tr>\n  </thead>\n  <tbody>\n    <tr>\n      <th>0</th>\n      <td>1916-07-02</td>\n      <td>Chile</td>\n      <td>Uruguay</td>\n      <td>0</td>\n      <td>4</td>\n      <td>Copa América</td>\n      <td>Buenos Aires</td>\n      <td>Argentina</td>\n      <td>True</td>\n      <td>Uruguay</td>\n      <td>José Piendibene</td>\n      <td>44.0</td>\n      <td>False</td>\n      <td>False</td>\n    </tr>\n    <tr>\n      <th>1</th>\n      <td>1916-07-02</td>\n      <td>Chile</td>\n      <td>Uruguay</td>\n      <td>0</td>\n      <td>4</td>\n      <td>Copa América</td>\n      <td>Buenos Aires</td>\n      <td>Argentina</td>\n      <td>True</td>\n      <td>Uruguay</td>\n      <td>Isabelino Gradín</td>\n      <td>55.0</td>\n      <td>False</td>\n      <td>False</td>\n    </tr>\n    <tr>\n      <th>2</th>\n      <td>1916-07-02</td>\n      <td>Chile</td>\n      <td>Uruguay</td>\n      <td>0</td>\n      <td>4</td>\n      <td>Copa América</td>\n      <td>Buenos Aires</td>\n      <td>Argentina</td>\n      <td>True</td>\n      <td>Uruguay</td>\n      <td>Isabelino Gradín</td>\n      <td>70.0</td>\n      <td>False</td>\n      <td>False</td>\n    </tr>\n    <tr>\n      <th>3</th>\n      <td>1916-07-02</td>\n      <td>Chile</td>\n      <td>Uruguay</td>\n      <td>0</td>\n      <td>4</td>\n      <td>Copa América</td>\n      <td>Buenos Aires</td>\n      <td>Argentina</td>\n      <td>True</td>\n      <td>Uruguay</td>\n      <td>José Piendibene</td>\n      <td>75.0</td>\n      <td>False</td>\n      <td>False</td>\n    </tr>\n    <tr>\n      <th>4</th>\n      <td>1916-07-06</td>\n      <td>Argentina</td>\n      <td>Chile</td>\n      <td>6</td>\n      <td>1</td>\n      <td>Copa América</td>\n      <td>Buenos Aires</td>\n      <td>Argentina</td>\n      <td>False</td>\n      <td>Argentina</td>\n      <td>Alberto Ohaco</td>\n      <td>2.0</td>\n      <td>False</td>\n      <td>False</td>\n    </tr>\n    <tr>\n      <th>...</th>\n      <td>...</td>\n      <td>...</td>\n      <td>...</td>\n      <td>...</td>\n      <td>...</td>\n      <td>...</td>\n      <td>...</td>\n      <td>...</td>\n      <td>...</td>\n      <td>...</td>\n      <td>...</td>\n      <td>...</td>\n      <td>...</td>\n      <td>...</td>\n    </tr>\n    <tr>\n      <th>40954</th>\n      <td>2022-12-18</td>\n      <td>Argentina</td>\n      <td>France</td>\n      <td>3</td>\n      <td>3</td>\n      <td>FIFA World Cup</td>\n      <td>Lusail</td>\n      <td>Qatar</td>\n      <td>True</td>\n      <td>Argentina</td>\n      <td>Ángel Di María</td>\n      <td>36.0</td>\n      <td>False</td>\n      <td>False</td>\n    </tr>\n    <tr>\n      <th>40955</th>\n      <td>2022-12-18</td>\n      <td>Argentina</td>\n      <td>France</td>\n      <td>3</td>\n      <td>3</td>\n      <td>FIFA World Cup</td>\n      <td>Lusail</td>\n      <td>Qatar</td>\n      <td>True</td>\n      <td>France</td>\n      <td>Kylian Mbappé</td>\n      <td>80.0</td>\n      <td>False</td>\n      <td>True</td>\n    </tr>\n    <tr>\n      <th>40956</th>\n      <td>2022-12-18</td>\n      <td>Argentina</td>\n      <td>France</td>\n      <td>3</td>\n      <td>3</td>\n      <td>FIFA World Cup</td>\n      <td>Lusail</td>\n      <td>Qatar</td>\n      <td>True</td>\n      <td>France</td>\n      <td>Kylian Mbappé</td>\n      <td>81.0</td>\n      <td>False</td>\n      <td>False</td>\n    </tr>\n    <tr>\n      <th>40957</th>\n      <td>2022-12-18</td>\n      <td>Argentina</td>\n      <td>France</td>\n      <td>3</td>\n      <td>3</td>\n      <td>FIFA World Cup</td>\n      <td>Lusail</td>\n      <td>Qatar</td>\n      <td>True</td>\n      <td>Argentina</td>\n      <td>Lionel Messi</td>\n      <td>109.0</td>\n      <td>False</td>\n      <td>False</td>\n    </tr>\n    <tr>\n      <th>40958</th>\n      <td>2022-12-18</td>\n      <td>Argentina</td>\n      <td>France</td>\n      <td>3</td>\n      <td>3</td>\n      <td>FIFA World Cup</td>\n      <td>Lusail</td>\n      <td>Qatar</td>\n      <td>True</td>\n      <td>France</td>\n      <td>Kylian Mbappé</td>\n      <td>118.0</td>\n      <td>False</td>\n      <td>True</td>\n    </tr>\n  </tbody>\n</table>\n<p>40959 rows × 14 columns</p>\n</div>"
     },
     "execution_count": 29,
     "metadata": {},
     "output_type": "execute_result"
    }
   ],
   "source": [
    "all_goals = matches.merge(right=goals, left_on=['date', 'home_team', 'away_team'], right_on=['date', 'home_team', 'away_team'], how='inner' )\n",
    "all_goals"
   ],
   "metadata": {
    "collapsed": false,
    "ExecuteTime": {
     "start_time": "2023-03-31T06:43:51.010553Z",
     "end_time": "2023-03-31T06:43:51.040600Z"
    }
   }
  },
  {
   "cell_type": "markdown",
   "source": [
    "Since, the goals data in the given dataset for the years from 1872 to 1916 is not available but the match data is, I have decided not to delete the matches table because it still has some extra data that is nowhere else and might be useful later on."
   ],
   "metadata": {
    "collapsed": false
   }
  },
  {
   "cell_type": "code",
   "execution_count": 13,
   "outputs": [
    {
     "name": "stdout",
     "output_type": "stream",
     "text": [
      "Shape of matches: (44557, 9)\n",
      "Shape of goals: (40959, 8)\n",
      "Shape of all_goals: (40959, 14)\n",
      "Shape of penalties: (547, 4)\n"
     ]
    }
   ],
   "source": [
    "print('Shape of matches: {0}\\nShape of goals: {1}\\nShape of all_goals: {2}\\nShape of penalties: {3}'.format(matches.shape, goals.shape, all_goals.shape, penalties.shape))"
   ],
   "metadata": {
    "collapsed": false,
    "ExecuteTime": {
     "start_time": "2023-03-31T06:20:44.552055Z",
     "end_time": "2023-03-31T06:20:44.662092Z"
    }
   }
  },
  {
   "cell_type": "markdown",
   "source": [
    "Clearly, the shapes are consistent and accurate. Let us begin exploratory analysis now, but before that let me just tweak around our <i>all_goals</i> dataframe to see if I can find something more interesting.."
   ],
   "metadata": {
    "collapsed": false
   }
  },
  {
   "cell_type": "code",
   "execution_count": 25,
   "outputs": [
    {
     "data": {
      "text/plain": "         home_score    away_score        minute\ncount  40959.000000  40959.000000  40959.000000\nmean       2.642472      1.582924     50.223174\nstd        2.462098      1.712146     26.447382\nmin        0.000000      0.000000      1.000000\n25%        1.000000      0.000000     28.000000\n50%        2.000000      1.000000     51.000000\n75%        4.000000      2.000000     73.000000\nmax       31.000000     17.000000    122.000000",
      "text/html": "<div>\n<style scoped>\n    .dataframe tbody tr th:only-of-type {\n        vertical-align: middle;\n    }\n\n    .dataframe tbody tr th {\n        vertical-align: top;\n    }\n\n    .dataframe thead th {\n        text-align: right;\n    }\n</style>\n<table border=\"1\" class=\"dataframe\">\n  <thead>\n    <tr style=\"text-align: right;\">\n      <th></th>\n      <th>home_score</th>\n      <th>away_score</th>\n      <th>minute</th>\n    </tr>\n  </thead>\n  <tbody>\n    <tr>\n      <th>count</th>\n      <td>40959.000000</td>\n      <td>40959.000000</td>\n      <td>40959.000000</td>\n    </tr>\n    <tr>\n      <th>mean</th>\n      <td>2.642472</td>\n      <td>1.582924</td>\n      <td>50.223174</td>\n    </tr>\n    <tr>\n      <th>std</th>\n      <td>2.462098</td>\n      <td>1.712146</td>\n      <td>26.447382</td>\n    </tr>\n    <tr>\n      <th>min</th>\n      <td>0.000000</td>\n      <td>0.000000</td>\n      <td>1.000000</td>\n    </tr>\n    <tr>\n      <th>25%</th>\n      <td>1.000000</td>\n      <td>0.000000</td>\n      <td>28.000000</td>\n    </tr>\n    <tr>\n      <th>50%</th>\n      <td>2.000000</td>\n      <td>1.000000</td>\n      <td>51.000000</td>\n    </tr>\n    <tr>\n      <th>75%</th>\n      <td>4.000000</td>\n      <td>2.000000</td>\n      <td>73.000000</td>\n    </tr>\n    <tr>\n      <th>max</th>\n      <td>31.000000</td>\n      <td>17.000000</td>\n      <td>122.000000</td>\n    </tr>\n  </tbody>\n</table>\n</div>"
     },
     "execution_count": 25,
     "metadata": {},
     "output_type": "execute_result"
    }
   ],
   "source": [
    "all_goals.describe()"
   ],
   "metadata": {
    "collapsed": false,
    "ExecuteTime": {
     "start_time": "2023-03-31T06:37:49.913409Z",
     "end_time": "2023-03-31T06:37:49.943622Z"
    }
   }
  },
  {
   "cell_type": "markdown",
   "source": [
    "By looking at the dataset, any football enthusiast would first want to look at the distribution of the goals against minutes. Thus, let's look at it -"
   ],
   "metadata": {
    "collapsed": false
   }
  },
  {
   "cell_type": "code",
   "execution_count": 28,
   "outputs": [
    {
     "data": {
      "text/plain": "<Figure size 640x480 with 1 Axes>",
      "image/png": "[encoded data removed]"
     },
     "metadata": {},
     "output_type": "display_data"
    }
   ],
   "source": [
    "ax = sns.kdeplot(data=all_goals, x='minute',fill=True, cumulative=False)\n",
    "ax.axvline(all_goals['minute'].mean(), color='g', label='mean')\n",
    "ax.axvline(all_goals['minute'].median(), color='r', label='median')\n",
    "ax.legend()\n",
    "plt.xlabel('Minute')\n",
    "plt.ylabel('Density')\n",
    "plt.savefig('figures/minute_v_allgoals.jpg')"
   ],
   "metadata": {
    "collapsed": false,
    "ExecuteTime": {
     "start_time": "2023-04-01T16:26:52.001400Z",
     "end_time": "2023-04-01T16:26:53.184812Z"
    }
   }
  },
  {
   "cell_type": "markdown",
   "source": [
    "1. Most number of goals are scored in the 90th minute, which might look surprising at first, but it is not - stay tuned to see why.\n",
    "2. The median and mean stick around 50, which simply makes sense according to basic laws of probability.\n",
    "\n",
    "I also want to visualize the home and away score against minutes, but that would require a new column which signifies that a goal has been scored by home team or away team."
   ],
   "metadata": {
    "collapsed": false
   }
  },
  {
   "cell_type": "markdown",
   "source": [
    "We have created two boolean columns, ``home_goal`` will have value 1 if the home team has scored that goal(remember that each row is a goal), otherwise 0. Similarly, reverse for the ``away_goal`` column"
   ],
   "metadata": {
    "collapsed": false
   }
  },
  {
   "cell_type": "code",
   "execution_count": 48,
   "outputs": [
    {
     "data": {
      "text/plain": "       minute  home_team away_team  home_goal  away_goal\n0        44.0      Chile   Uruguay          0          1\n1        55.0      Chile   Uruguay          0          1\n2        70.0      Chile   Uruguay          0          1\n3        75.0      Chile   Uruguay          0          1\n4         2.0  Argentina     Chile          1          0\n...       ...        ...       ...        ...        ...\n40954    36.0  Argentina    France          1          0\n40955    80.0  Argentina    France          0          1\n40956    81.0  Argentina    France          0          1\n40957   109.0  Argentina    France          1          0\n40958   118.0  Argentina    France          0          1\n\n[40959 rows x 5 columns]",
      "text/html": "<div>\n<style scoped>\n    .dataframe tbody tr th:only-of-type {\n        vertical-align: middle;\n    }\n\n    .dataframe tbody tr th {\n        vertical-align: top;\n    }\n\n    .dataframe thead th {\n        text-align: right;\n    }\n</style>\n<table border=\"1\" class=\"dataframe\">\n  <thead>\n    <tr style=\"text-align: right;\">\n      <th></th>\n      <th>minute</th>\n      <th>home_team</th>\n      <th>away_team</th>\n      <th>home_goal</th>\n      <th>away_goal</th>\n    </tr>\n  </thead>\n  <tbody>\n    <tr>\n      <th>0</th>\n      <td>44.0</td>\n      <td>Chile</td>\n      <td>Uruguay</td>\n      <td>0</td>\n      <td>1</td>\n    </tr>\n    <tr>\n      <th>1</th>\n      <td>55.0</td>\n      <td>Chile</td>\n      <td>Uruguay</td>\n      <td>0</td>\n      <td>1</td>\n    </tr>\n    <tr>\n      <th>2</th>\n      <td>70.0</td>\n      <td>Chile</td>\n      <td>Uruguay</td>\n      <td>0</td>\n      <td>1</td>\n    </tr>\n    <tr>\n      <th>3</th>\n      <td>75.0</td>\n      <td>Chile</td>\n      <td>Uruguay</td>\n      <td>0</td>\n      <td>1</td>\n    </tr>\n    <tr>\n      <th>4</th>\n      <td>2.0</td>\n      <td>Argentina</td>\n      <td>Chile</td>\n      <td>1</td>\n      <td>0</td>\n    </tr>\n    <tr>\n      <th>...</th>\n      <td>...</td>\n      <td>...</td>\n      <td>...</td>\n      <td>...</td>\n      <td>...</td>\n    </tr>\n    <tr>\n      <th>40954</th>\n      <td>36.0</td>\n      <td>Argentina</td>\n      <td>France</td>\n      <td>1</td>\n      <td>0</td>\n    </tr>\n    <tr>\n      <th>40955</th>\n      <td>80.0</td>\n      <td>Argentina</td>\n      <td>France</td>\n      <td>0</td>\n      <td>1</td>\n    </tr>\n    <tr>\n      <th>40956</th>\n      <td>81.0</td>\n      <td>Argentina</td>\n      <td>France</td>\n      <td>0</td>\n      <td>1</td>\n    </tr>\n    <tr>\n      <th>40957</th>\n      <td>109.0</td>\n      <td>Argentina</td>\n      <td>France</td>\n      <td>1</td>\n      <td>0</td>\n    </tr>\n    <tr>\n      <th>40958</th>\n      <td>118.0</td>\n      <td>Argentina</td>\n      <td>France</td>\n      <td>0</td>\n      <td>1</td>\n    </tr>\n  </tbody>\n</table>\n<p>40959 rows × 5 columns</p>\n</div>"
     },
     "execution_count": 48,
     "metadata": {},
     "output_type": "execute_result"
    }
   ],
   "source": [
    "all_goals['home_goal'] = all_goals.apply(lambda row: 1 if row['home_team']==row['team'] else 0, axis=1)\n",
    "all_goals['away_goal'] = all_goals.apply(lambda row: 1 if row['away_team']==row['team'] else 0, axis=1)\n",
    "minute_v_goal = all_goals.loc[:, ['minute', 'home_team', 'away_team', 'home_goal', 'away_goal']]\n",
    "minute_v_goal"
   ],
   "metadata": {
    "collapsed": false,
    "ExecuteTime": {
     "start_time": "2023-03-31T07:07:02.307622Z",
     "end_time": "2023-03-31T07:07:02.337621Z"
    }
   }
  },
  {
   "cell_type": "markdown",
   "source": [
    "In the following cell, I have grouped ``minute`` against ``home_goal`` and ``away_goal`` so that I can construct a graph of minutes against total goals in that minute."
   ],
   "metadata": {
    "collapsed": false
   }
  },
  {
   "cell_type": "code",
   "execution_count": 50,
   "outputs": [
    {
     "data": {
      "text/plain": "        home_goal  away_goal\nminute                      \n1.0           116         72\n2.0           206        117\n3.0           186        110\n4.0           208        116\n5.0           201        164\n...           ...        ...\n117.0           5          2\n118.0           7          2\n119.0           6          2\n120.0           4          7\n122.0           1          0\n\n[121 rows x 2 columns]",
      "text/html": "<div>\n<style scoped>\n    .dataframe tbody tr th:only-of-type {\n        vertical-align: middle;\n    }\n\n    .dataframe tbody tr th {\n        vertical-align: top;\n    }\n\n    .dataframe thead th {\n        text-align: right;\n    }\n</style>\n<table border=\"1\" class=\"dataframe\">\n  <thead>\n    <tr style=\"text-align: right;\">\n      <th></th>\n      <th>home_goal</th>\n      <th>away_goal</th>\n    </tr>\n    <tr>\n      <th>minute</th>\n      <th></th>\n      <th></th>\n    </tr>\n  </thead>\n  <tbody>\n    <tr>\n      <th>1.0</th>\n      <td>116</td>\n      <td>72</td>\n    </tr>\n    <tr>\n      <th>2.0</th>\n      <td>206</td>\n      <td>117</td>\n    </tr>\n    <tr>\n      <th>3.0</th>\n      <td>186</td>\n      <td>110</td>\n    </tr>\n    <tr>\n      <th>4.0</th>\n      <td>208</td>\n      <td>116</td>\n    </tr>\n    <tr>\n      <th>5.0</th>\n      <td>201</td>\n      <td>164</td>\n    </tr>\n    <tr>\n      <th>...</th>\n      <td>...</td>\n      <td>...</td>\n    </tr>\n    <tr>\n      <th>117.0</th>\n      <td>5</td>\n      <td>2</td>\n    </tr>\n    <tr>\n      <th>118.0</th>\n      <td>7</td>\n      <td>2</td>\n    </tr>\n    <tr>\n      <th>119.0</th>\n      <td>6</td>\n      <td>2</td>\n    </tr>\n    <tr>\n      <th>120.0</th>\n      <td>4</td>\n      <td>7</td>\n    </tr>\n    <tr>\n      <th>122.0</th>\n      <td>1</td>\n      <td>0</td>\n    </tr>\n  </tbody>\n</table>\n<p>121 rows × 2 columns</p>\n</div>"
     },
     "execution_count": 50,
     "metadata": {},
     "output_type": "execute_result"
    }
   ],
   "source": [
    "minute_v_goal = minute_v_goal.groupby('minute').sum(numeric_only=True)\n",
    "minute_v_goal"
   ],
   "metadata": {
    "collapsed": false,
    "ExecuteTime": {
     "start_time": "2023-03-31T07:09:03.360215Z",
     "end_time": "2023-03-31T07:09:03.381443Z"
    }
   }
  },
  {
   "cell_type": "code",
   "execution_count": 25,
   "outputs": [
    {
     "data": {
      "text/plain": "<Figure size 640x480 with 1 Axes>",
      "image/png": "[encoded data removed]"
     },
     "metadata": {},
     "output_type": "display_data"
    }
   ],
   "source": [
    "ax2 = sns.lineplot(data=minute_v_goal, x='minute', y='home_goal', color='g', label='Home Goals')\n",
    "sns.lineplot(data=minute_v_goal, x='minute', y='away_goal', color='r', ax=ax2, label='Away Goals')\n",
    "plt.xlabel('Minute')\n",
    "plt.ylabel('Total Goals')\n",
    "plt.savefig('figures/minute_v_home_away.jpg')"
   ],
   "metadata": {
    "collapsed": false,
    "ExecuteTime": {
     "start_time": "2023-04-01T16:22:00.931203Z",
     "end_time": "2023-04-01T16:22:01.429602Z"
    }
   }
  },
  {
   "cell_type": "markdown",
   "source": [
    "It is very surprising to see how similar the distribution of both of these curves is. Let us break down this curve:\n",
    " * The flat tail after 90 minutes is pretty much obvious, because very less number of games go into the extra time.\n",
    " * Most number of goals are scored at the end of both halves. This looks surprising at first but this onl makes sense because of **injury time**. Injury time might last for anywhere between 0 to 10 minutes or even longer, hence the 90th or the 45th minutes are effectively many times longer than a minute, hence more probability of scoring goals during those minutes."
   ],
   "metadata": {
    "collapsed": false
   }
  },
  {
   "cell_type": "markdown",
   "source": [
    "Lastly, one last column to add before we move on to the interesting stuff - the weekday column."
   ],
   "metadata": {
    "collapsed": false
   }
  },
  {
   "cell_type": "code",
   "execution_count": 60,
   "outputs": [
    {
     "data": {
      "text/plain": "            date   weekday\n0     1916-07-02    Sunday\n1     1916-07-02    Sunday\n2     1916-07-02    Sunday\n3     1916-07-02    Sunday\n4     1916-07-06  Thursday\n...          ...       ...\n40954 2022-12-18    Sunday\n40955 2022-12-18    Sunday\n40956 2022-12-18    Sunday\n40957 2022-12-18    Sunday\n40958 2022-12-18    Sunday\n\n[40959 rows x 2 columns]",
      "text/html": "<div>\n<style scoped>\n    .dataframe tbody tr th:only-of-type {\n        vertical-align: middle;\n    }\n\n    .dataframe tbody tr th {\n        vertical-align: top;\n    }\n\n    .dataframe thead th {\n        text-align: right;\n    }\n</style>\n<table border=\"1\" class=\"dataframe\">\n  <thead>\n    <tr style=\"text-align: right;\">\n      <th></th>\n      <th>date</th>\n      <th>weekday</th>\n    </tr>\n  </thead>\n  <tbody>\n    <tr>\n      <th>0</th>\n      <td>1916-07-02</td>\n      <td>Sunday</td>\n    </tr>\n    <tr>\n      <th>1</th>\n      <td>1916-07-02</td>\n      <td>Sunday</td>\n    </tr>\n    <tr>\n      <th>2</th>\n      <td>1916-07-02</td>\n      <td>Sunday</td>\n    </tr>\n    <tr>\n      <th>3</th>\n      <td>1916-07-02</td>\n      <td>Sunday</td>\n    </tr>\n    <tr>\n      <th>4</th>\n      <td>1916-07-06</td>\n      <td>Thursday</td>\n    </tr>\n    <tr>\n      <th>...</th>\n      <td>...</td>\n      <td>...</td>\n    </tr>\n    <tr>\n      <th>40954</th>\n      <td>2022-12-18</td>\n      <td>Sunday</td>\n    </tr>\n    <tr>\n      <th>40955</th>\n      <td>2022-12-18</td>\n      <td>Sunday</td>\n    </tr>\n    <tr>\n      <th>40956</th>\n      <td>2022-12-18</td>\n      <td>Sunday</td>\n    </tr>\n    <tr>\n      <th>40957</th>\n      <td>2022-12-18</td>\n      <td>Sunday</td>\n    </tr>\n    <tr>\n      <th>40958</th>\n      <td>2022-12-18</td>\n      <td>Sunday</td>\n    </tr>\n  </tbody>\n</table>\n<p>40959 rows × 2 columns</p>\n</div>"
     },
     "execution_count": 60,
     "metadata": {},
     "output_type": "execute_result"
    }
   ],
   "source": [
    "all_goals['date'] = pd.to_datetime(all_goals['date'])\n",
    "all_goals['weekday'] = all_goals['date'].dt.day_name()      #extract day name from date\n",
    "all_goals[['date','weekday']]"
   ],
   "metadata": {
    "collapsed": false,
    "ExecuteTime": {
     "start_time": "2023-03-31T07:28:03.212865Z",
     "end_time": "2023-03-31T07:28:03.259775Z"
    }
   }
  },
  {
   "cell_type": "markdown",
   "source": [
    "As you might argue, it would make more sense to create this column in the <i>matches</i> table instead of <i>all_goals</i>. But, I want to use only <i>all_goals</i> for all the further tasks and forget the <i>matches</i> table altogether. It has done its job ;)"
   ],
   "metadata": {
    "collapsed": false
   }
  },
  {
   "cell_type": "markdown",
   "source": [
    "Let us now create a subset containing only numeric columns. Before proceeding, I would want to convert the ``neutral``,  ``own_goal`` and ``penalty`` columns into numeric because they are boolean and might be more efficiently used in numeric form"
   ],
   "metadata": {
    "collapsed": false
   }
  },
  {
   "cell_type": "code",
   "execution_count": 21,
   "outputs": [
    {
     "data": {
      "text/plain": "dtype('int32')"
     },
     "execution_count": 21,
     "metadata": {},
     "output_type": "execute_result"
    }
   ],
   "source": [
    "all_goals.loc[:, 'penalty'] = all_goals['penalty'].astype(int)\n",
    "all_goals.loc[:, 'own_goal'] = all_goals['own_goal'].astype(int)\n",
    "all_goals.loc[:, 'neutral'] = all_goals['neutral'].astype(int)\n",
    "all_goals['penalty'].dtype"
   ],
   "metadata": {
    "collapsed": false,
    "ExecuteTime": {
     "start_time": "2023-04-01T16:15:09.583425Z",
     "end_time": "2023-04-01T16:15:09.634905Z"
    }
   }
  },
  {
   "cell_type": "code",
   "execution_count": 22,
   "outputs": [
    {
     "data": {
      "text/plain": "        date  neutral  home_score  away_score  penalty  own_goal  home_goal  \\\n0 1916-07-02        1           0           4        0         0          0   \n1 1916-07-02        1           0           4        0         0          0   \n2 1916-07-02        1           0           4        0         0          0   \n3 1916-07-02        1           0           4        0         0          0   \n4 1916-07-06        0           6           1        0         0          1   \n\n   away_goal  \n0          1  \n1          1  \n2          1  \n3          1  \n4          0  ",
      "text/html": "<div>\n<style scoped>\n    .dataframe tbody tr th:only-of-type {\n        vertical-align: middle;\n    }\n\n    .dataframe tbody tr th {\n        vertical-align: top;\n    }\n\n    .dataframe thead th {\n        text-align: right;\n    }\n</style>\n<table border=\"1\" class=\"dataframe\">\n  <thead>\n    <tr style=\"text-align: right;\">\n      <th></th>\n      <th>date</th>\n      <th>neutral</th>\n      <th>home_score</th>\n      <th>away_score</th>\n      <th>penalty</th>\n      <th>own_goal</th>\n      <th>home_goal</th>\n      <th>away_goal</th>\n    </tr>\n  </thead>\n  <tbody>\n    <tr>\n      <th>0</th>\n      <td>1916-07-02</td>\n      <td>1</td>\n      <td>0</td>\n      <td>4</td>\n      <td>0</td>\n      <td>0</td>\n      <td>0</td>\n      <td>1</td>\n    </tr>\n    <tr>\n      <th>1</th>\n      <td>1916-07-02</td>\n      <td>1</td>\n      <td>0</td>\n      <td>4</td>\n      <td>0</td>\n      <td>0</td>\n      <td>0</td>\n      <td>1</td>\n    </tr>\n    <tr>\n      <th>2</th>\n      <td>1916-07-02</td>\n      <td>1</td>\n      <td>0</td>\n      <td>4</td>\n      <td>0</td>\n      <td>0</td>\n      <td>0</td>\n      <td>1</td>\n    </tr>\n    <tr>\n      <th>3</th>\n      <td>1916-07-02</td>\n      <td>1</td>\n      <td>0</td>\n      <td>4</td>\n      <td>0</td>\n      <td>0</td>\n      <td>0</td>\n      <td>1</td>\n    </tr>\n    <tr>\n      <th>4</th>\n      <td>1916-07-06</td>\n      <td>0</td>\n      <td>6</td>\n      <td>1</td>\n      <td>0</td>\n      <td>0</td>\n      <td>1</td>\n      <td>0</td>\n    </tr>\n  </tbody>\n</table>\n</div>"
     },
     "execution_count": 22,
     "metadata": {},
     "output_type": "execute_result"
    }
   ],
   "source": [
    "num_cols = all_goals.loc[:, ['date', 'neutral', 'home_score', 'away_score', 'penalty', 'own_goal', 'home_goal', 'away_goal']]\n",
    "num_cols.head()"
   ],
   "metadata": {
    "collapsed": false,
    "ExecuteTime": {
     "start_time": "2023-04-01T16:16:29.913743Z",
     "end_time": "2023-04-01T16:16:30.013037Z"
    }
   }
  },
  {
   "cell_type": "markdown",
   "source": [
    "**Brief summary of the major insights through numeric columns:**"
   ],
   "metadata": {
    "collapsed": false
   }
  },
  {
   "cell_type": "code",
   "execution_count": 51,
   "outputs": [
    {
     "name": "stdout",
     "output_type": "stream",
     "text": [
      "Total Home Goals: 24783\n",
      "Total Away Goals: 16176\n",
      "Total Penalties(in match, not shoot-out): 2685\n",
      "Average Goals per match: 1.458839239625648\n",
      "Highest number of Goals in a match: 31\n",
      "Highest number of Penalties in a match: 13 (!!!CRAZYY!! NO?)\n"
     ]
    }
   ],
   "source": [
    "to_print = {'home_goals': num_cols['home_goal'].sum(),\n",
    "            'away_goals': num_cols['away_goal'].sum(),\n",
    "            'penalties': num_cols['penalty'].sum(),\n",
    "            'ave_goals': np.mean([matches['home_score'], matches['away_score']]),\n",
    "            'max_goals': np.max([matches['home_score'].max(), matches['away_score'].max()]),\n",
    "            'max_penal': np.max(num_cols.groupby('date')['penalty'].sum())}\n",
    "\n",
    "print('Total Home Goals: {home_goals}\\n'\n",
    "      'Total Away Goals: {away_goals}\\n'\n",
    "      'Total Penalties(in match, not shoot-out): {penalties}\\n'\n",
    "      'Average Goals per match: {ave_goals}\\n'\n",
    "      'Highest number of Goals in a match: {max_goals}\\n'\n",
    "      'Highest number of Penalties in a match: {max_penal} (!!!CRAZYY!! NO?)'.format(**to_print))"
   ],
   "metadata": {
    "collapsed": false,
    "ExecuteTime": {
     "start_time": "2023-04-01T16:47:57.319227Z",
     "end_time": "2023-04-01T16:47:57.336007Z"
    }
   }
  },
  {
   "cell_type": "code",
   "execution_count": 56,
   "outputs": [
    {
     "data": {
      "text/plain": "            neutral    home_score    away_score       penalty      own_goal  \\\ncount  40959.000000  40959.000000  40959.000000  40959.000000  40959.000000   \nmean       0.255426      2.642472      1.582924      0.065553      0.017530   \nstd        0.436106      2.462098      1.712146      0.247503      0.131236   \nmin        0.000000      0.000000      0.000000      0.000000      0.000000   \n25%        0.000000      1.000000      0.000000      0.000000      0.000000   \n50%        0.000000      2.000000      1.000000      0.000000      0.000000   \n75%        1.000000      4.000000      2.000000      0.000000      0.000000   \nmax        1.000000     31.000000     17.000000      1.000000      1.000000   \n\n          home_goal     away_goal  \ncount  40959.000000  40959.000000  \nmean       0.605068      0.394932  \nstd        0.488842      0.488842  \nmin        0.000000      0.000000  \n25%        0.000000      0.000000  \n50%        1.000000      0.000000  \n75%        1.000000      1.000000  \nmax        1.000000      1.000000  ",
      "text/html": "<div>\n<style scoped>\n    .dataframe tbody tr th:only-of-type {\n        vertical-align: middle;\n    }\n\n    .dataframe tbody tr th {\n        vertical-align: top;\n    }\n\n    .dataframe thead th {\n        text-align: right;\n    }\n</style>\n<table border=\"1\" class=\"dataframe\">\n  <thead>\n    <tr style=\"text-align: right;\">\n      <th></th>\n      <th>neutral</th>\n      <th>home_score</th>\n      <th>away_score</th>\n      <th>penalty</th>\n      <th>own_goal</th>\n      <th>home_goal</th>\n      <th>away_goal</th>\n    </tr>\n  </thead>\n  <tbody>\n    <tr>\n      <th>count</th>\n      <td>40959.000000</td>\n      <td>40959.000000</td>\n      <td>40959.000000</td>\n      <td>40959.000000</td>\n      <td>40959.000000</td>\n      <td>40959.000000</td>\n      <td>40959.000000</td>\n    </tr>\n    <tr>\n      <th>mean</th>\n      <td>0.255426</td>\n      <td>2.642472</td>\n      <td>1.582924</td>\n      <td>0.065553</td>\n      <td>0.017530</td>\n      <td>0.605068</td>\n      <td>0.394932</td>\n    </tr>\n    <tr>\n      <th>std</th>\n      <td>0.436106</td>\n      <td>2.462098</td>\n      <td>1.712146</td>\n      <td>0.247503</td>\n      <td>0.131236</td>\n      <td>0.488842</td>\n      <td>0.488842</td>\n    </tr>\n    <tr>\n      <th>min</th>\n      <td>0.000000</td>\n      <td>0.000000</td>\n      <td>0.000000</td>\n      <td>0.000000</td>\n      <td>0.000000</td>\n      <td>0.000000</td>\n      <td>0.000000</td>\n    </tr>\n    <tr>\n      <th>25%</th>\n      <td>0.000000</td>\n      <td>1.000000</td>\n      <td>0.000000</td>\n      <td>0.000000</td>\n      <td>0.000000</td>\n      <td>0.000000</td>\n      <td>0.000000</td>\n    </tr>\n    <tr>\n      <th>50%</th>\n      <td>0.000000</td>\n      <td>2.000000</td>\n      <td>1.000000</td>\n      <td>0.000000</td>\n      <td>0.000000</td>\n      <td>1.000000</td>\n      <td>0.000000</td>\n    </tr>\n    <tr>\n      <th>75%</th>\n      <td>1.000000</td>\n      <td>4.000000</td>\n      <td>2.000000</td>\n      <td>0.000000</td>\n      <td>0.000000</td>\n      <td>1.000000</td>\n      <td>1.000000</td>\n    </tr>\n    <tr>\n      <th>max</th>\n      <td>1.000000</td>\n      <td>31.000000</td>\n      <td>17.000000</td>\n      <td>1.000000</td>\n      <td>1.000000</td>\n      <td>1.000000</td>\n      <td>1.000000</td>\n    </tr>\n  </tbody>\n</table>\n</div>"
     },
     "metadata": {},
     "output_type": "display_data"
    }
   ],
   "source": [
    "from IPython.display import display\n",
    "\n",
    "display(num_cols.describe())\n",
    "\n",
    "#the above code was needed because my IDE was not displaying tables without a print statement for some reason.\n",
    "#this will not be needed on you device most likely, the following code should work\n",
    "\n",
    "#num_cols.describe()"
   ],
   "metadata": {
    "collapsed": false,
    "ExecuteTime": {
     "start_time": "2023-04-01T16:51:24.750207Z",
     "end_time": "2023-04-01T16:51:24.796889Z"
    }
   }
  },
  {
   "cell_type": "markdown",
   "source": [
    "**USE AS SAVE FILES BUTTON**"
   ],
   "metadata": {
    "collapsed": false
   }
  },
  {
   "cell_type": "code",
   "execution_count": 57,
   "outputs": [],
   "source": [
    "#this cell is for occasional saving purposes and is not intended for final submission\n",
    "\n",
    "all_goals.to_pickle('created/all_goals.pkl')\n",
    "goals.to_pickle('created/goals.pkl')\n",
    "matches.to_pickle('created/matches.pkl')\n",
    "penalties.to_pickle('created/penalties.pkl')\n",
    "minute_v_goal.to_pickle('created/goal_grouped_by_minute.pkl')\n",
    "num_cols.to_pickle('created/num_cols.pkl')"
   ],
   "metadata": {
    "collapsed": false,
    "ExecuteTime": {
     "start_time": "2023-04-01T16:55:29.454357Z",
     "end_time": "2023-04-01T16:55:29.565912Z"
    }
   }
  },
  {
   "cell_type": "markdown",
   "source": [
    "**USE AS LOAD FILES BUTTON**"
   ],
   "metadata": {
    "collapsed": false
   }
  },
  {
   "cell_type": "code",
   "execution_count": 4,
   "outputs": [],
   "source": [
    "#this cell is for occasional intermediate loading purposes and is not intended for final submission\n",
    "\n",
    "all_goals = pd.read_pickle('created/all_goals.pkl')\n",
    "goals = pd.read_pickle('created/goals.pkl')\n",
    "matches = pd.read_pickle('created/matches.pkl')\n",
    "penalties = pd.read_pickle('created/penalties.pkl')\n",
    "minute_v_goal = pd.read_pickle('created/goal_grouped_by_minute.pkl')"
   ],
   "metadata": {
    "collapsed": false
   }
  }
 ],
 "metadata": {
  "kernelspec": {
   "display_name": "Python 3",
   "language": "python",
   "name": "python3"
  },
  "language_info": {
   "codemirror_mode": {
    "name": "ipython",
    "version": 2
   },
   "file_extension": ".py",
   "mimetype": "text/x-python",
   "name": "python",
   "nbconvert_exporter": "python",
   "pygments_lexer": "ipython2",
   "version": "2.7.6"
  }
 },
 "nbformat": 4,
 "nbformat_minor": 0
}
